{
 "cells": [
  {
   "cell_type": "code",
   "execution_count": 1,
   "id": "1c568926",
   "metadata": {
    "_cell_guid": "b1076dfc-b9ad-4769-8c92-a6c4dae69d19",
    "_uuid": "8f2839f25d086af736a60e9eeb907d3b93b6e0e5",
    "execution": {
     "iopub.execute_input": "2022-05-13T22:21:55.517822Z",
     "iopub.status.busy": "2022-05-13T22:21:55.517202Z",
     "iopub.status.idle": "2022-05-13T22:21:58.063942Z",
     "shell.execute_reply": "2022-05-13T22:21:58.062849Z"
    },
    "papermill": {
     "duration": 2.584795,
     "end_time": "2022-05-13T22:21:58.066773",
     "exception": false,
     "start_time": "2022-05-13T22:21:55.481978",
     "status": "completed"
    },
    "tags": []
   },
   "outputs": [],
   "source": [
    "import torch\n",
    "import torch.nn as nn\n",
    "import torch.optim as optim\n",
    "from torch.optim import lr_scheduler\n",
    "import numpy as np\n",
    "import torchvision\n",
    "from torchvision import datasets, models, transforms\n",
    "import matplotlib.pyplot as plt\n",
    "import time\n",
    "import os\n",
    "from skimage.io import imread\n",
    "from torch.utils.data import DataLoader,Dataset, random_split\n",
    "from tqdm.notebook import tqdm\n",
    "from torchvision.datasets import ImageFolder, DatasetFolder\n",
    "import matplotlib.pyplot as plt\n",
    "import random\n",
    "device = torch.device('cuda' if torch.cuda.is_available() else 'cpu')"
   ]
  },
  {
   "cell_type": "code",
   "execution_count": 2,
   "id": "a4af164c",
   "metadata": {
    "execution": {
     "iopub.execute_input": "2022-05-13T22:21:58.132222Z",
     "iopub.status.busy": "2022-05-13T22:21:58.131850Z",
     "iopub.status.idle": "2022-05-13T22:21:58.140685Z",
     "shell.execute_reply": "2022-05-13T22:21:58.139606Z"
    },
    "papermill": {
     "duration": 0.045068,
     "end_time": "2022-05-13T22:21:58.143274",
     "exception": false,
     "start_time": "2022-05-13T22:21:58.098206",
     "status": "completed"
    },
    "tags": []
   },
   "outputs": [
    {
     "data": {
      "text/plain": [
       "device(type='cpu')"
      ]
     },
     "execution_count": 2,
     "metadata": {},
     "output_type": "execute_result"
    }
   ],
   "source": [
    "device"
   ]
  },
  {
   "cell_type": "markdown",
   "id": "4e4171b6",
   "metadata": {
    "papermill": {
     "duration": 0.030849,
     "end_time": "2022-05-13T22:21:58.205647",
     "exception": false,
     "start_time": "2022-05-13T22:21:58.174798",
     "status": "completed"
    },
    "tags": []
   },
   "source": [
    "# Download Data"
   ]
  },
  {
   "cell_type": "markdown",
   "id": "53c2d9c1",
   "metadata": {
    "papermill": {
     "duration": 0.031463,
     "end_time": "2022-05-13T22:21:58.268254",
     "exception": false,
     "start_time": "2022-05-13T22:21:58.236791",
     "status": "completed"
    },
    "tags": []
   },
   "source": [
    "Since I want to use only 300*300 photos, I added a new condition to find_classes method in DatasetFolder, parent of ImageFolder. [Source ](https://github.com/pytorch/vision/blob/651b97e2d0ebb1594ba5a318a6df69cb5129588a/torchvision/datasets/folder.py#L108)"
   ]
  },
  {
   "cell_type": "code",
   "execution_count": 3,
   "id": "bf5e476a",
   "metadata": {
    "execution": {
     "iopub.execute_input": "2022-05-13T22:21:58.332595Z",
     "iopub.status.busy": "2022-05-13T22:21:58.332256Z",
     "iopub.status.idle": "2022-05-13T22:21:58.338119Z",
     "shell.execute_reply": "2022-05-13T22:21:58.337102Z"
    },
    "papermill": {
     "duration": 0.04076,
     "end_time": "2022-05-13T22:21:58.340236",
     "exception": false,
     "start_time": "2022-05-13T22:21:58.299476",
     "status": "completed"
    },
    "tags": []
   },
   "outputs": [],
   "source": [
    "mean = np.array([0.485, 0.456, 0.406])\n",
    "std = np.array([0.229, 0.224, 0.225])\n",
    "data_transforms = transforms.Compose([                            \n",
    "        transforms.RandomHorizontalFlip(),\n",
    "        transforms.ToTensor(),\n",
    "        transforms.Normalize(mean, std)])"
   ]
  },
  {
   "cell_type": "code",
   "execution_count": 4,
   "id": "a3a04705",
   "metadata": {
    "execution": {
     "iopub.execute_input": "2022-05-13T22:21:58.404931Z",
     "iopub.status.busy": "2022-05-13T22:21:58.404275Z",
     "iopub.status.idle": "2022-05-13T22:21:58.412659Z",
     "shell.execute_reply": "2022-05-13T22:21:58.411552Z"
    },
    "papermill": {
     "duration": 0.043544,
     "end_time": "2022-05-13T22:21:58.415106",
     "exception": false,
     "start_time": "2022-05-13T22:21:58.371562",
     "status": "completed"
    },
    "tags": []
   },
   "outputs": [],
   "source": [
    "\n",
    "class AnimalData(ImageFolder):\n",
    "        \n",
    "    def find_classes(self, directory):\n",
    "        \"\"\"Finds the class folders in a dataset.\n",
    "        See :class:`DatasetFolder` for details.\n",
    "        \"\"\"\n",
    "        classes = sorted(entry.name for entry in os.scandir(directory) if\n",
    "                         entry.is_dir() and '-resize-300' in entry.name)\n",
    "        \n",
    "        class_to_idx = {cls_name: i for i, cls_name in enumerate(classes)}\n",
    "        return classes, class_to_idx        \n",
    "    \n",
    "def cracked(name):\n",
    "    return '244_300resized' not in name and '224_300resized' not in name"
   ]
  },
  {
   "cell_type": "code",
   "execution_count": 5,
   "id": "3fded4ca",
   "metadata": {
    "execution": {
     "iopub.execute_input": "2022-05-13T22:21:58.481900Z",
     "iopub.status.busy": "2022-05-13T22:21:58.481570Z",
     "iopub.status.idle": "2022-05-13T22:21:59.228107Z",
     "shell.execute_reply": "2022-05-13T22:21:59.226864Z"
    },
    "papermill": {
     "duration": 0.782144,
     "end_time": "2022-05-13T22:21:59.230586",
     "exception": false,
     "start_time": "2022-05-13T22:21:58.448442",
     "status": "completed"
    },
    "tags": []
   },
   "outputs": [
    {
     "name": "stdout",
     "output_type": "stream",
     "text": [
      "cheetah-resize-300 | fox-resize-300 | hyena-resize-300 | lion-resize-300 | tiger-resize-300 | wolf-resize-300\n",
      "1717\n"
     ]
    }
   ],
   "source": [
    "dataset = AnimalData('../input/wildlife-animals-images', transform=data_transforms, is_valid_file=cracked)\n",
    "class_names = dataset.classes\n",
    "print(' | '.join(class_names))\n",
    "print(len(dataset))\n",
    "train_len = int(0.8*len(dataset))\n",
    "test_len = len(dataset) - train_len\n",
    "train, test = random_split(dataset, [train_len, test_len],\n",
    "                           generator=torch.Generator().manual_seed(42))\n",
    "datasets = {'train': train, 'test': test}\n",
    "train_dataloader =  DataLoader(train, batch_size=8, shuffle=True) \n",
    "test_dataloader = DataLoader(test, batch_size=8, shuffle=True)\n",
    "dataloaders =  {x: DataLoader(datasets[x], batch_size=4, shuffle=True) for x in ['train', 'test']}\n",
    "dataset_sizes = {'train': train_len, 'test': test_len}"
   ]
  },
  {
   "cell_type": "code",
   "execution_count": 6,
   "id": "fc87d15e",
   "metadata": {
    "execution": {
     "iopub.execute_input": "2022-05-13T22:21:59.296804Z",
     "iopub.status.busy": "2022-05-13T22:21:59.296454Z",
     "iopub.status.idle": "2022-05-13T22:21:59.966769Z",
     "shell.execute_reply": "2022-05-13T22:21:59.965763Z"
    },
    "papermill": {
     "duration": 0.707749,
     "end_time": "2022-05-13T22:21:59.969974",
     "exception": false,
     "start_time": "2022-05-13T22:21:59.262225",
     "status": "completed"
    },
    "tags": []
   },
   "outputs": [
    {
     "data": {
      "image/png": "[encoded data removed]",
      "text/plain": [
       "<Figure size 432x288 with 1 Axes>"
      ]
     },
     "metadata": {
      "needs_background": "light"
     },
     "output_type": "display_data"
    }
   ],
   "source": [
    "def imshow(inp, title):\n",
    "    \"\"\"Imshow for Tensor.\"\"\"\n",
    "    inp = inp.numpy().transpose((1, 2, 0))\n",
    "    inp = std * inp + mean\n",
    "    inp = np.clip(inp, 0, 1)\n",
    "    plt.imshow(inp)\n",
    "    plt.title(title)\n",
    "    plt.show()\n",
    "\n",
    "# Get a batch of training data\n",
    "inputs, classes = next(iter(train_dataloader))\n",
    "\n",
    "# Make a grid from batch\n",
    "out = torchvision.utils.make_grid(inputs)\n",
    "\n",
    "imshow(out, title=[class_names[x] for x in classes])\n"
   ]
  },
  {
   "cell_type": "markdown",
   "id": "987a34f6",
   "metadata": {
    "papermill": {
     "duration": 0.034317,
     "end_time": "2022-05-13T22:22:00.038476",
     "exception": false,
     "start_time": "2022-05-13T22:22:00.004159",
     "status": "completed"
    },
    "tags": []
   },
   "source": [
    "# Functions"
   ]
  },
  {
   "cell_type": "code",
   "execution_count": 7,
   "id": "0a63ded6",
   "metadata": {
    "execution": {
     "iopub.execute_input": "2022-05-13T22:22:00.107445Z",
     "iopub.status.busy": "2022-05-13T22:22:00.107114Z",
     "iopub.status.idle": "2022-05-13T22:22:00.123695Z",
     "shell.execute_reply": "2022-05-13T22:22:00.122822Z"
    },
    "papermill": {
     "duration": 0.053875,
     "end_time": "2022-05-13T22:22:00.125819",
     "exception": false,
     "start_time": "2022-05-13T22:22:00.071944",
     "status": "completed"
    },
    "tags": []
   },
   "outputs": [],
   "source": [
    "def test_model(model):\n",
    "    model.eval()\n",
    "\n",
    "    running_corrects = 0\n",
    "\n",
    "    for inputs, targets in test_dataloader:\n",
    "        inputs, targets = inputs.to(device), targets.to(device)\n",
    "\n",
    "        with torch.no_grad():\n",
    "            outputs = model(inputs)\n",
    "            _, preds = torch.max(outputs, 1)\n",
    "     \n",
    "            running_corrects += torch.sum(preds == targets.data)\n",
    "\n",
    "    \n",
    "    acc = running_corrects.double()/test_len\n",
    "    return round(acc.item(), 5)\n",
    "\n",
    "def train_model(model, criterion, optimizer, schedular, num_epoch=3):\n",
    "\n",
    "    since = time.time()\n",
    "    list_of_loss = []\n",
    "    model.train()\n",
    "    for epoch in tqdm(range(num_epoch)):\n",
    "\n",
    "        print(f'Current epoch is {epoch + 1}/{num_epoch}')\n",
    "        curr_loss = 0\n",
    "        epoch_loss = 0\n",
    "\n",
    "        for inputs, labels in train_dataloader:\n",
    "    \n",
    "            inputs, labels = inputs.to(device), labels.to(device)\n",
    "\n",
    "            outputs = model(inputs)\n",
    "            loss = criterion(outputs, labels)\n",
    "            optimizer.zero_grad()\n",
    "            loss.backward()\n",
    "            optimizer.step()\n",
    "\n",
    "            curr_loss += loss.item() * inputs.size(0)\n",
    "    \n",
    "            \n",
    "        if schedular != None:\n",
    "            schedular.step()\n",
    "        epoch_loss = curr_loss/train_len\n",
    "        print(f'Loss is {epoch_loss}')\n",
    "        list_of_loss.append(epoch_loss)\n",
    "  \n",
    "\n",
    "    time_elapsed = time.time() - since\n",
    "    print('Training complete in {:.0f}m {:.0f}s'.format(time_elapsed // 60, time_elapsed % 60))\n",
    "\n",
    "    return list_of_loss\n",
    "\n",
    "def set_seed(n):\n",
    "    random.seed(n)\n",
    "    torch.manual_seed(n)\n",
    "    torch.cuda.manual_seed(n)\n",
    "    \n",
    "def set_model(n):\n",
    "    set_seed(n)\n",
    "    model = models.resnet18(pretrained=True)\n",
    "    for param in model.parameters():\n",
    "        param.requires_grad = False\n",
    "        \n",
    "    num_in_feat = model.fc.in_features\n",
    "    model.fc = nn.Linear(num_in_feat, 6)\n",
    "    model = model.to(device)\n",
    "    \n",
    "    return model\n",
    "    "
   ]
  },
  {
   "cell_type": "markdown",
   "id": "36dc0735",
   "metadata": {
    "papermill": {
     "duration": 0.033373,
     "end_time": "2022-05-13T22:22:00.192678",
     "exception": false,
     "start_time": "2022-05-13T22:22:00.159305",
     "status": "completed"
    },
    "tags": []
   },
   "source": [
    "# Models.\n",
    "I use same pretrained Resnet18 model. Each time I change optimizer and schedular. "
   ]
  },
  {
   "cell_type": "markdown",
   "id": "af05015f",
   "metadata": {
    "papermill": {
     "duration": 0.033017,
     "end_time": "2022-05-13T22:22:00.259288",
     "exception": false,
     "start_time": "2022-05-13T22:22:00.226271",
     "status": "completed"
    },
    "tags": []
   },
   "source": [
    "# 1 Approach:\n",
    "Do not change learning rate"
   ]
  },
  {
   "cell_type": "code",
   "execution_count": 8,
   "id": "1c0fa6a5",
   "metadata": {
    "execution": {
     "iopub.execute_input": "2022-05-13T22:22:00.335452Z",
     "iopub.status.busy": "2022-05-13T22:22:00.334613Z",
     "iopub.status.idle": "2022-05-13T22:22:03.884645Z",
     "shell.execute_reply": "2022-05-13T22:22:03.883790Z"
    },
    "papermill": {
     "duration": 3.588576,
     "end_time": "2022-05-13T22:22:03.887267",
     "exception": false,
     "start_time": "2022-05-13T22:22:00.298691",
     "status": "completed"
    },
    "tags": []
   },
   "outputs": [
    {
     "name": "stderr",
     "output_type": "stream",
     "text": [
      "Downloading: \"https://download.pytorch.org/models/resnet18-f37072fd.pth\" to /root/.cache/torch/hub/checkpoints/resnet18-f37072fd.pth\n"
     ]
    },
    {
     "data": {
      "application/vnd.jupyter.widget-view+json": {
       "model_id": "9899ba63344c40588d3a2e697acedb90",
       "version_major": 2,
       "version_minor": 0
      },
      "text/plain": [
       "  0%|          | 0.00/44.7M [00:00<?, ?B/s]"
      ]
     },
     "metadata": {},
     "output_type": "display_data"
    }
   ],
   "source": [
    "model_1 = set_model(42)\n",
    "optimizer_1 = optim.Adam(model_1.parameters(), lr = 0.01)\n",
    "criterion_1 = nn.CrossEntropyLoss()"
   ]
  },
  {
   "cell_type": "code",
   "execution_count": 9,
   "id": "bf58adb5",
   "metadata": {
    "execution": {
     "iopub.execute_input": "2022-05-13T22:22:03.958556Z",
     "iopub.status.busy": "2022-05-13T22:22:03.958214Z",
     "iopub.status.idle": "2022-05-13T22:22:36.562075Z",
     "shell.execute_reply": "2022-05-13T22:22:36.561105Z"
    },
    "papermill": {
     "duration": 32.674393,
     "end_time": "2022-05-13T22:22:36.596621",
     "exception": false,
     "start_time": "2022-05-13T22:22:03.922228",
     "status": "completed"
    },
    "tags": []
   },
   "outputs": [
    {
     "data": {
      "text/plain": [
       "0.12791"
      ]
     },
     "execution_count": 9,
     "metadata": {},
     "output_type": "execute_result"
    }
   ],
   "source": [
    "test_model(model_1)\n"
   ]
  },
  {
   "cell_type": "code",
   "execution_count": 10,
   "id": "cba90663",
   "metadata": {
    "execution": {
     "iopub.execute_input": "2022-05-13T22:22:36.667866Z",
     "iopub.status.busy": "2022-05-13T22:22:36.667152Z",
     "iopub.status.idle": "2022-05-13T22:29:01.742208Z",
     "shell.execute_reply": "2022-05-13T22:29:01.741360Z"
    },
    "papermill": {
     "duration": 385.152295,
     "end_time": "2022-05-13T22:29:01.783353",
     "exception": false,
     "start_time": "2022-05-13T22:22:36.631058",
     "status": "completed"
    },
    "tags": []
   },
   "outputs": [
    {
     "data": {
      "application/vnd.jupyter.widget-view+json": {
       "model_id": "436df018f73c4271a6eb8f39a33281ac",
       "version_major": 2,
       "version_minor": 0
      },
      "text/plain": [
       "  0%|          | 0/3 [00:00<?, ?it/s]"
      ]
     },
     "metadata": {},
     "output_type": "display_data"
    },
    {
     "name": "stdout",
     "output_type": "stream",
     "text": [
      "Current epoch is 1/3\n"
     ]
    },
    {
     "name": "stderr",
     "output_type": "stream",
     "text": [
      "/opt/conda/lib/python3.7/site-packages/PIL/Image.py:946: UserWarning: Palette images with Transparency expressed in bytes should be converted to RGBA images\n",
      "  \"Palette images with Transparency expressed in bytes should be \"\n"
     ]
    },
    {
     "name": "stdout",
     "output_type": "stream",
     "text": [
      "Loss is 0.5533953632917581\n",
      "Current epoch is 2/3\n",
      "Loss is 0.23256238178923713\n",
      "Current epoch is 3/3\n",
      "Loss is 0.24635764010355649\n",
      "Training complete in 6m 25s\n"
     ]
    },
    {
     "data": {
      "text/plain": [
       "[0.5533953632917581, 0.23256238178923713, 0.24635764010355649]"
      ]
     },
     "execution_count": 10,
     "metadata": {},
     "output_type": "execute_result"
    }
   ],
   "source": [
    "train_model(model_1, criterion_1, optimizer_1, schedular = None)"
   ]
  },
  {
   "cell_type": "code",
   "execution_count": 11,
   "id": "dff4caa3",
   "metadata": {
    "execution": {
     "iopub.execute_input": "2022-05-13T22:29:01.860182Z",
     "iopub.status.busy": "2022-05-13T22:29:01.859832Z",
     "iopub.status.idle": "2022-05-13T22:29:31.955988Z",
     "shell.execute_reply": "2022-05-13T22:29:31.955263Z"
    },
    "papermill": {
     "duration": 30.178402,
     "end_time": "2022-05-13T22:29:31.999096",
     "exception": false,
     "start_time": "2022-05-13T22:29:01.820694",
     "status": "completed"
    },
    "tags": []
   },
   "outputs": [
    {
     "data": {
      "text/plain": [
       "0.95058"
      ]
     },
     "execution_count": 11,
     "metadata": {},
     "output_type": "execute_result"
    }
   ],
   "source": [
    "test_model(model_1)"
   ]
  },
  {
   "cell_type": "markdown",
   "id": "166cf4aa",
   "metadata": {
    "papermill": {
     "duration": 0.038099,
     "end_time": "2022-05-13T22:29:32.077654",
     "exception": false,
     "start_time": "2022-05-13T22:29:32.039555",
     "status": "completed"
    },
    "tags": []
   },
   "source": [
    "# 2 Approach:\n",
    "Train a model with [Step_lr](http://pytorch.org/docs/stable/generated/torch.optim.lr_scheduler.StepLR.html#torch.optim.lr_scheduler.StepLR) shcedular, so every N steps learning rate is multiplied by gamma. [MultiStepLR ](http://pytorch.org/docs/stable/generated/torch.optim.lr_scheduler.MultiStepLR.html#torch.optim.lr_scheduler.MultiStepLR)also might be used where learning rate changes once the number of epoch reaches one of the milestones. "
   ]
  },
  {
   "cell_type": "code",
   "execution_count": 12,
   "id": "ee70c6eb",
   "metadata": {
    "execution": {
     "iopub.execute_input": "2022-05-13T22:29:32.156841Z",
     "iopub.status.busy": "2022-05-13T22:29:32.156021Z",
     "iopub.status.idle": "2022-05-13T22:29:32.400540Z",
     "shell.execute_reply": "2022-05-13T22:29:32.399584Z"
    },
    "papermill": {
     "duration": 0.286587,
     "end_time": "2022-05-13T22:29:32.403003",
     "exception": false,
     "start_time": "2022-05-13T22:29:32.116416",
     "status": "completed"
    },
    "tags": []
   },
   "outputs": [],
   "source": [
    "model_2 = set_model(42)\n",
    "optimizer_2 = optim.Adam(model_2.parameters(), lr = 0.01)\n",
    "criterion_2 = nn.CrossEntropyLoss()\n",
    "lr_schedular_2 = lr_scheduler.StepLR(optimizer_2, step_size=2, gamma=0.1) # every 2 steps decrease lr by 10 times"
   ]
  },
  {
   "cell_type": "code",
   "execution_count": 13,
   "id": "957345d4",
   "metadata": {
    "execution": {
     "iopub.execute_input": "2022-05-13T22:29:32.483919Z",
     "iopub.status.busy": "2022-05-13T22:29:32.483521Z",
     "iopub.status.idle": "2022-05-13T22:30:02.876221Z",
     "shell.execute_reply": "2022-05-13T22:30:02.875163Z"
    },
    "papermill": {
     "duration": 30.475407,
     "end_time": "2022-05-13T22:30:02.918383",
     "exception": false,
     "start_time": "2022-05-13T22:29:32.442976",
     "status": "completed"
    },
    "tags": []
   },
   "outputs": [
    {
     "data": {
      "text/plain": [
       "0.12791"
      ]
     },
     "execution_count": 13,
     "metadata": {},
     "output_type": "execute_result"
    }
   ],
   "source": [
    "test_model(model_2)"
   ]
  },
  {
   "cell_type": "code",
   "execution_count": 14,
   "id": "9d8efd12",
   "metadata": {
    "execution": {
     "iopub.execute_input": "2022-05-13T22:30:02.997985Z",
     "iopub.status.busy": "2022-05-13T22:30:02.997517Z",
     "iopub.status.idle": "2022-05-13T22:36:16.949919Z",
     "shell.execute_reply": "2022-05-13T22:36:16.949082Z"
    },
    "papermill": {
     "duration": 374.043592,
     "end_time": "2022-05-13T22:36:17.000653",
     "exception": false,
     "start_time": "2022-05-13T22:30:02.957061",
     "status": "completed"
    },
    "tags": []
   },
   "outputs": [
    {
     "data": {
      "application/vnd.jupyter.widget-view+json": {
       "model_id": "c4d6f224d1f44e179f899a585b174102",
       "version_major": 2,
       "version_minor": 0
      },
      "text/plain": [
       "  0%|          | 0/3 [00:00<?, ?it/s]"
      ]
     },
     "metadata": {},
     "output_type": "display_data"
    },
    {
     "name": "stdout",
     "output_type": "stream",
     "text": [
      "Current epoch is 1/3\n",
      "Loss is 0.5533953632917581\n",
      "Current epoch is 2/3\n",
      "Loss is 0.23256238178923713\n",
      "Current epoch is 3/3\n",
      "Loss is 0.09416809605758494\n",
      "Training complete in 6m 14s\n"
     ]
    },
    {
     "data": {
      "text/plain": [
       "[0.5533953632917581, 0.23256238178923713, 0.09416809605758494]"
      ]
     },
     "execution_count": 14,
     "metadata": {},
     "output_type": "execute_result"
    }
   ],
   "source": [
    "train_model(model_2, criterion_2, optimizer_2, lr_schedular_2)"
   ]
  },
  {
   "cell_type": "code",
   "execution_count": 15,
   "id": "12eb229c",
   "metadata": {
    "execution": {
     "iopub.execute_input": "2022-05-13T22:36:17.085764Z",
     "iopub.status.busy": "2022-05-13T22:36:17.085427Z",
     "iopub.status.idle": "2022-05-13T22:36:47.204739Z",
     "shell.execute_reply": "2022-05-13T22:36:47.203779Z"
    },
    "papermill": {
     "duration": 30.20498,
     "end_time": "2022-05-13T22:36:47.247640",
     "exception": false,
     "start_time": "2022-05-13T22:36:17.042660",
     "status": "completed"
    },
    "tags": []
   },
   "outputs": [
    {
     "data": {
      "text/plain": [
       "0.98547"
      ]
     },
     "execution_count": 15,
     "metadata": {},
     "output_type": "execute_result"
    }
   ],
   "source": [
    "test_model(model_2)"
   ]
  },
  {
   "cell_type": "markdown",
   "id": "b273b432",
   "metadata": {
    "papermill": {
     "duration": 0.041167,
     "end_time": "2022-05-13T22:36:47.329792",
     "exception": false,
     "start_time": "2022-05-13T22:36:47.288625",
     "status": "completed"
    },
    "tags": []
   },
   "source": [
    "# 3 Approach\n",
    "Set different learning rates for diferent layers. Or Layer-Wise Learning Rate. The key idea is to gradually reduce the learning rate when going deeper into the network."
   ]
  },
  {
   "cell_type": "code",
   "execution_count": 16,
   "id": "9da4a811",
   "metadata": {
    "execution": {
     "iopub.execute_input": "2022-05-13T22:36:47.414309Z",
     "iopub.status.busy": "2022-05-13T22:36:47.413569Z",
     "iopub.status.idle": "2022-05-13T22:36:47.671716Z",
     "shell.execute_reply": "2022-05-13T22:36:47.670747Z"
    },
    "papermill": {
     "duration": 0.303542,
     "end_time": "2022-05-13T22:36:47.674281",
     "exception": false,
     "start_time": "2022-05-13T22:36:47.370739",
     "status": "completed"
    },
    "tags": []
   },
   "outputs": [],
   "source": [
    "model_3 = set_model(42)\n",
    "\n",
    "list_of_layers = []\n",
    "for layer in model_3.named_parameters():\n",
    "    list_of_layers.append(layer[0])\n",
    "list_of_layers.reverse()\n",
    "lr = 0.01  \n",
    "parameters = []\n",
    "prev_group_name = list_of_layers[0].split('.')[0]\n",
    "\n",
    "# store params & learning rates\n",
    "for idx, name in enumerate(list_of_layers):\n",
    "    \n",
    "    cur_group_name = name.split('.')[0]\n",
    "    \n",
    "    # update learning rate\n",
    "    if cur_group_name != prev_group_name:\n",
    "        lr *= 0.8\n",
    "    prev_group_name = cur_group_name\n",
    "    \n",
    "    \n",
    "    #print(f'lr = {lr:.4f}, {name}')\n",
    "    \n",
    "    # append layer parameters\n",
    "    parameters += [{'params': [p for n, p in model_3.named_parameters() if n == name and p.requires_grad],\n",
    "                    'lr':     lr}]\n",
    "\n",
    "optimizer_3 = optim.Adam(parameters)\n",
    "creterion_3 = nn.CrossEntropyLoss()\n",
    "\n"
   ]
  },
  {
   "cell_type": "code",
   "execution_count": 17,
   "id": "7e2af028",
   "metadata": {
    "execution": {
     "iopub.execute_input": "2022-05-13T22:36:47.762241Z",
     "iopub.status.busy": "2022-05-13T22:36:47.761885Z",
     "iopub.status.idle": "2022-05-13T22:43:08.497799Z",
     "shell.execute_reply": "2022-05-13T22:43:08.496838Z"
    },
    "papermill": {
     "duration": 380.828997,
     "end_time": "2022-05-13T22:43:08.546456",
     "exception": false,
     "start_time": "2022-05-13T22:36:47.717459",
     "status": "completed"
    },
    "tags": []
   },
   "outputs": [
    {
     "data": {
      "application/vnd.jupyter.widget-view+json": {
       "model_id": "61e719915ab7440c94f0da21f1ee7855",
       "version_major": 2,
       "version_minor": 0
      },
      "text/plain": [
       "  0%|          | 0/3 [00:00<?, ?it/s]"
      ]
     },
     "metadata": {},
     "output_type": "display_data"
    },
    {
     "name": "stdout",
     "output_type": "stream",
     "text": [
      "Current epoch is 1/3\n",
      "Loss is 0.7331502625233042\n",
      "Current epoch is 2/3\n",
      "Loss is 0.40538718910263133\n",
      "Current epoch is 3/3\n",
      "Loss is 0.3124226102620745\n",
      "Training complete in 6m 21s\n"
     ]
    },
    {
     "data": {
      "text/plain": [
       "[0.7331502625233042, 0.40538718910263133, 0.3124226102620745]"
      ]
     },
     "execution_count": 17,
     "metadata": {},
     "output_type": "execute_result"
    }
   ],
   "source": [
    "train_model(model_3, creterion_3, optimizer_3, schedular = None)"
   ]
  },
  {
   "cell_type": "code",
   "execution_count": 18,
   "id": "57edd312",
   "metadata": {
    "execution": {
     "iopub.execute_input": "2022-05-13T22:43:08.637245Z",
     "iopub.status.busy": "2022-05-13T22:43:08.636553Z",
     "iopub.status.idle": "2022-05-13T22:43:38.980634Z",
     "shell.execute_reply": "2022-05-13T22:43:38.979727Z"
    },
    "papermill": {
     "duration": 30.436441,
     "end_time": "2022-05-13T22:43:39.027439",
     "exception": false,
     "start_time": "2022-05-13T22:43:08.590998",
     "status": "completed"
    },
    "tags": []
   },
   "outputs": [
    {
     "data": {
      "text/plain": [
       "0.99128"
      ]
     },
     "execution_count": 18,
     "metadata": {},
     "output_type": "execute_result"
    }
   ],
   "source": [
    "test_model(model_3)"
   ]
  },
  {
   "cell_type": "markdown",
   "id": "c84b53d7",
   "metadata": {
    "papermill": {
     "duration": 0.043624,
     "end_time": "2022-05-13T22:43:39.115651",
     "exception": false,
     "start_time": "2022-05-13T22:43:39.072027",
     "status": "completed"
    },
    "tags": []
   },
   "source": [
    "# 4 Approach\n",
    "Use any function to change learning rate. [Lambda Shcedular](https://pytorch.org/docs/stable/generated/torch.optim.lr_scheduler.LambdaLR.html#torch.optim.lr_scheduler.LambdaLR)"
   ]
  },
  {
   "cell_type": "code",
   "execution_count": 19,
   "id": "b2915790",
   "metadata": {
    "execution": {
     "iopub.execute_input": "2022-05-13T22:43:39.205909Z",
     "iopub.status.busy": "2022-05-13T22:43:39.204847Z",
     "iopub.status.idle": "2022-05-13T22:43:39.455876Z",
     "shell.execute_reply": "2022-05-13T22:43:39.455070Z"
    },
    "papermill": {
     "duration": 0.299408,
     "end_time": "2022-05-13T22:43:39.458888",
     "exception": false,
     "start_time": "2022-05-13T22:43:39.159480",
     "status": "completed"
    },
    "tags": []
   },
   "outputs": [],
   "source": [
    "model_4 = set_model(42)\n",
    "optimizer_4 = torch.optim.Adam(model_4.parameters(), lr=0.01)\n",
    "lambda_4 = lambda epoch: 0.9 ** epoch\n",
    "schedular_4 = lr_scheduler.LambdaLR(optimizer_4, lambda_4)\n",
    "criterion_4 = nn.CrossEntropyLoss()"
   ]
  },
  {
   "cell_type": "code",
   "execution_count": 20,
   "id": "40e36be7",
   "metadata": {
    "execution": {
     "iopub.execute_input": "2022-05-13T22:43:39.550288Z",
     "iopub.status.busy": "2022-05-13T22:43:39.549946Z",
     "iopub.status.idle": "2022-05-13T22:43:39.556928Z",
     "shell.execute_reply": "2022-05-13T22:43:39.556308Z"
    },
    "papermill": {
     "duration": 0.055742,
     "end_time": "2022-05-13T22:43:39.558949",
     "exception": false,
     "start_time": "2022-05-13T22:43:39.503207",
     "status": "completed"
    },
    "tags": []
   },
   "outputs": [
    {
     "name": "stdout",
     "output_type": "stream",
     "text": [
      "0.009000000000000001\n",
      "0.008100000000000001\n",
      "0.007290000000000001\n",
      "0.006561\n",
      "0.005904900000000001\n"
     ]
    }
   ],
   "source": [
    "for epoch in range(5):\n",
    "\n",
    "    optimizer_4.step()\n",
    "    schedular_4.step()\n",
    "\n",
    "    print(optimizer_4.state_dict()['param_groups'][0]['lr'])"
   ]
  },
  {
   "cell_type": "code",
   "execution_count": 21,
   "id": "b525cd53",
   "metadata": {
    "execution": {
     "iopub.execute_input": "2022-05-13T22:43:39.653025Z",
     "iopub.status.busy": "2022-05-13T22:43:39.652408Z",
     "iopub.status.idle": "2022-05-13T22:49:58.791461Z",
     "shell.execute_reply": "2022-05-13T22:49:58.790516Z"
    },
    "papermill": {
     "duration": 379.235042,
     "end_time": "2022-05-13T22:49:58.840355",
     "exception": false,
     "start_time": "2022-05-13T22:43:39.605313",
     "status": "completed"
    },
    "tags": []
   },
   "outputs": [
    {
     "data": {
      "application/vnd.jupyter.widget-view+json": {
       "model_id": "c17830e9dec04ba2a324b524f060ebc1",
       "version_major": 2,
       "version_minor": 0
      },
      "text/plain": [
       "  0%|          | 0/3 [00:00<?, ?it/s]"
      ]
     },
     "metadata": {},
     "output_type": "display_data"
    },
    {
     "name": "stdout",
     "output_type": "stream",
     "text": [
      "Current epoch is 1/3\n",
      "Loss is 0.550077268906692\n",
      "Current epoch is 2/3\n",
      "Loss is 0.2058556651897004\n",
      "Current epoch is 3/3\n",
      "Loss is 0.16748430373202072\n",
      "Training complete in 6m 19s\n"
     ]
    },
    {
     "data": {
      "text/plain": [
       "[0.550077268906692, 0.2058556651897004, 0.16748430373202072]"
      ]
     },
     "execution_count": 21,
     "metadata": {},
     "output_type": "execute_result"
    }
   ],
   "source": [
    "train_model(model_4, criterion_2, optimizer_4, schedular_4)"
   ]
  },
  {
   "cell_type": "code",
   "execution_count": 22,
   "id": "194c682f",
   "metadata": {
    "execution": {
     "iopub.execute_input": "2022-05-13T22:49:58.939187Z",
     "iopub.status.busy": "2022-05-13T22:49:58.938830Z",
     "iopub.status.idle": "2022-05-13T22:50:29.794755Z",
     "shell.execute_reply": "2022-05-13T22:50:29.793677Z"
    },
    "papermill": {
     "duration": 30.958053,
     "end_time": "2022-05-13T22:50:29.846479",
     "exception": false,
     "start_time": "2022-05-13T22:49:58.888426",
     "status": "completed"
    },
    "tags": []
   },
   "outputs": [
    {
     "data": {
      "text/plain": [
       "0.98837"
      ]
     },
     "execution_count": 22,
     "metadata": {},
     "output_type": "execute_result"
    }
   ],
   "source": [
    "test_model(model_4)"
   ]
  },
  {
   "cell_type": "markdown",
   "id": "41d8f40c",
   "metadata": {
    "papermill": {
     "duration": 0.049526,
     "end_time": "2022-05-13T22:50:29.944779",
     "exception": false,
     "start_time": "2022-05-13T22:50:29.895253",
     "status": "completed"
    },
    "tags": []
   },
   "source": [
    "# 5 Approach\n",
    "[ReduceLRonPlateau ](https://pytorch.org/docs/stable/generated/torch.optim.lr_scheduler.ReduceLROnPlateau.html#torch.optim.lr_scheduler.ReduceLROnPlateau). Reduce learning rate when a metric has stopped improving. This time schedular step should be called after validation step. "
   ]
  },
  {
   "cell_type": "code",
   "execution_count": 23,
   "id": "ee67b4b4",
   "metadata": {
    "execution": {
     "iopub.execute_input": "2022-05-13T22:50:30.053956Z",
     "iopub.status.busy": "2022-05-13T22:50:30.053639Z",
     "iopub.status.idle": "2022-05-13T22:50:30.067330Z",
     "shell.execute_reply": "2022-05-13T22:50:30.066412Z"
    },
    "papermill": {
     "duration": 0.076453,
     "end_time": "2022-05-13T22:50:30.069979",
     "exception": false,
     "start_time": "2022-05-13T22:50:29.993526",
     "status": "completed"
    },
    "tags": []
   },
   "outputs": [],
   "source": [
    "def train_model_with_test(model, criterion, optimizer, scheduler, num_epochs=3):\n",
    "    since = time.time()\n",
    "\n",
    "    for epoch in range(num_epochs):\n",
    "        print('Epoch {}/{}'.format(epoch + 1, num_epochs))\n",
    "        print('-' * 10)\n",
    "\n",
    "        # Each epoch has a training and validation phase\n",
    "        for phase in ['train', 'test']:\n",
    "            if phase == 'train':\n",
    "                model.train()  # Set model to training mode\n",
    "            else:\n",
    "                model.eval()   # Set model to evaluate mode\n",
    "\n",
    "            running_loss = 0.0\n",
    "            running_corrects = 0\n",
    "\n",
    "            # Iterate over data.\n",
    "            for inputs, labels in dataloaders[phase]:\n",
    "                inputs = inputs.to(device)\n",
    "                labels = labels.to(device)\n",
    "\n",
    "                # forward\n",
    "                with torch.set_grad_enabled(phase == 'train'):\n",
    "                    outputs = model(inputs)\n",
    "                    _, preds = torch.max(outputs, 1)\n",
    "                    loss = criterion(outputs, labels)\n",
    "\n",
    "                    if phase == 'train':\n",
    "                        optimizer.zero_grad()\n",
    "                        loss.backward()\n",
    "                        optimizer.step()\n",
    "\n",
    "                # statistics\n",
    "                running_loss += loss.item() * inputs.size(0)\n",
    "                running_corrects += torch.sum(preds == labels.data)\n",
    "\n",
    "            epoch_loss = running_loss / dataset_sizes[phase]\n",
    "            epoch_acc = running_corrects.double() / dataset_sizes[phase]\n",
    "            \n",
    "            if phase == 'test':\n",
    "                scheduler.step(epoch_loss)\n",
    "\n",
    "            print('{} Loss: {:.4f} Acc: {:.4f}'.format(\n",
    "                phase, epoch_loss, epoch_acc))\n",
    "        print()\n",
    "\n",
    "    time_elapsed = time.time() - since\n",
    "    print('Training complete in {:.0f}m {:.0f}s'.format(\n",
    "        time_elapsed // 60, time_elapsed % 60))\n",
    "\n",
    "    return model"
   ]
  },
  {
   "cell_type": "code",
   "execution_count": 24,
   "id": "9a372138",
   "metadata": {
    "execution": {
     "iopub.execute_input": "2022-05-13T22:50:30.171534Z",
     "iopub.status.busy": "2022-05-13T22:50:30.171157Z",
     "iopub.status.idle": "2022-05-13T22:50:30.451837Z",
     "shell.execute_reply": "2022-05-13T22:50:30.451123Z"
    },
    "papermill": {
     "duration": 0.336211,
     "end_time": "2022-05-13T22:50:30.454590",
     "exception": false,
     "start_time": "2022-05-13T22:50:30.118379",
     "status": "completed"
    },
    "tags": []
   },
   "outputs": [],
   "source": [
    "model_5 = set_model(42)\n",
    "creterion_5 = nn.CrossEntropyLoss()\n",
    "optimizer_5 = torch.optim.Adam(model_5.parameters(), lr=0.01)\n",
    "schedular_5 = lr_scheduler.ReduceLROnPlateau(optimizer_5, mode='min', factor=0.1, patience=3) \n",
    "#patience is how long wait with no improvement (by defoult 10)"
   ]
  },
  {
   "cell_type": "code",
   "execution_count": 25,
   "id": "bfc79777",
   "metadata": {
    "execution": {
     "iopub.execute_input": "2022-05-13T22:50:30.555280Z",
     "iopub.status.busy": "2022-05-13T22:50:30.554594Z",
     "iopub.status.idle": "2022-05-13T22:58:12.886502Z",
     "shell.execute_reply": "2022-05-13T22:58:12.885213Z"
    },
    "papermill": {
     "duration": 462.384557,
     "end_time": "2022-05-13T22:58:12.888964",
     "exception": false,
     "start_time": "2022-05-13T22:50:30.504407",
     "status": "completed"
    },
    "tags": []
   },
   "outputs": [
    {
     "name": "stdout",
     "output_type": "stream",
     "text": [
      "Epoch 1/3\n",
      "----------\n",
      "train Loss: 0.9547 Acc: 0.7604\n",
      "test Loss: 0.1257 Acc: 0.9826\n",
      "\n",
      "Epoch 2/3\n",
      "----------\n",
      "train Loss: 0.8839 Acc: 0.8208\n",
      "test Loss: 0.0632 Acc: 0.9913\n",
      "\n",
      "Epoch 3/3\n",
      "----------\n",
      "train Loss: 0.8737 Acc: 0.8318\n",
      "test Loss: 0.1090 Acc: 0.9855\n",
      "\n",
      "Training complete in 7m 42s\n"
     ]
    },
    {
     "data": {
      "text/plain": [
       "ResNet(\n",
       "  (conv1): Conv2d(3, 64, kernel_size=(7, 7), stride=(2, 2), padding=(3, 3), bias=False)\n",
       "  (bn1): BatchNorm2d(64, eps=1e-05, momentum=0.1, affine=True, track_running_stats=True)\n",
       "  (relu): ReLU(inplace=True)\n",
       "  (maxpool): MaxPool2d(kernel_size=3, stride=2, padding=1, dilation=1, ceil_mode=False)\n",
       "  (layer1): Sequential(\n",
       "    (0): BasicBlock(\n",
       "      (conv1): Conv2d(64, 64, kernel_size=(3, 3), stride=(1, 1), padding=(1, 1), bias=False)\n",
       "      (bn1): BatchNorm2d(64, eps=1e-05, momentum=0.1, affine=True, track_running_stats=True)\n",
       "      (relu): ReLU(inplace=True)\n",
       "      (conv2): Conv2d(64, 64, kernel_size=(3, 3), stride=(1, 1), padding=(1, 1), bias=False)\n",
       "      (bn2): BatchNorm2d(64, eps=1e-05, momentum=0.1, affine=True, track_running_stats=True)\n",
       "    )\n",
       "    (1): BasicBlock(\n",
       "      (conv1): Conv2d(64, 64, kernel_size=(3, 3), stride=(1, 1), padding=(1, 1), bias=False)\n",
       "      (bn1): BatchNorm2d(64, eps=1e-05, momentum=0.1, affine=True, track_running_stats=True)\n",
       "      (relu): ReLU(inplace=True)\n",
       "      (conv2): Conv2d(64, 64, kernel_size=(3, 3), stride=(1, 1), padding=(1, 1), bias=False)\n",
       "      (bn2): BatchNorm2d(64, eps=1e-05, momentum=0.1, affine=True, track_running_stats=True)\n",
       "    )\n",
       "  )\n",
       "  (layer2): Sequential(\n",
       "    (0): BasicBlock(\n",
       "      (conv1): Conv2d(64, 128, kernel_size=(3, 3), stride=(2, 2), padding=(1, 1), bias=False)\n",
       "      (bn1): BatchNorm2d(128, eps=1e-05, momentum=0.1, affine=True, track_running_stats=True)\n",
       "      (relu): ReLU(inplace=True)\n",
       "      (conv2): Conv2d(128, 128, kernel_size=(3, 3), stride=(1, 1), padding=(1, 1), bias=False)\n",
       "      (bn2): BatchNorm2d(128, eps=1e-05, momentum=0.1, affine=True, track_running_stats=True)\n",
       "      (downsample): Sequential(\n",
       "        (0): Conv2d(64, 128, kernel_size=(1, 1), stride=(2, 2), bias=False)\n",
       "        (1): BatchNorm2d(128, eps=1e-05, momentum=0.1, affine=True, track_running_stats=True)\n",
       "      )\n",
       "    )\n",
       "    (1): BasicBlock(\n",
       "      (conv1): Conv2d(128, 128, kernel_size=(3, 3), stride=(1, 1), padding=(1, 1), bias=False)\n",
       "      (bn1): BatchNorm2d(128, eps=1e-05, momentum=0.1, affine=True, track_running_stats=True)\n",
       "      (relu): ReLU(inplace=True)\n",
       "      (conv2): Conv2d(128, 128, kernel_size=(3, 3), stride=(1, 1), padding=(1, 1), bias=False)\n",
       "      (bn2): BatchNorm2d(128, eps=1e-05, momentum=0.1, affine=True, track_running_stats=True)\n",
       "    )\n",
       "  )\n",
       "  (layer3): Sequential(\n",
       "    (0): BasicBlock(\n",
       "      (conv1): Conv2d(128, 256, kernel_size=(3, 3), stride=(2, 2), padding=(1, 1), bias=False)\n",
       "      (bn1): BatchNorm2d(256, eps=1e-05, momentum=0.1, affine=True, track_running_stats=True)\n",
       "      (relu): ReLU(inplace=True)\n",
       "      (conv2): Conv2d(256, 256, kernel_size=(3, 3), stride=(1, 1), padding=(1, 1), bias=False)\n",
       "      (bn2): BatchNorm2d(256, eps=1e-05, momentum=0.1, affine=True, track_running_stats=True)\n",
       "      (downsample): Sequential(\n",
       "        (0): Conv2d(128, 256, kernel_size=(1, 1), stride=(2, 2), bias=False)\n",
       "        (1): BatchNorm2d(256, eps=1e-05, momentum=0.1, affine=True, track_running_stats=True)\n",
       "      )\n",
       "    )\n",
       "    (1): BasicBlock(\n",
       "      (conv1): Conv2d(256, 256, kernel_size=(3, 3), stride=(1, 1), padding=(1, 1), bias=False)\n",
       "      (bn1): BatchNorm2d(256, eps=1e-05, momentum=0.1, affine=True, track_running_stats=True)\n",
       "      (relu): ReLU(inplace=True)\n",
       "      (conv2): Conv2d(256, 256, kernel_size=(3, 3), stride=(1, 1), padding=(1, 1), bias=False)\n",
       "      (bn2): BatchNorm2d(256, eps=1e-05, momentum=0.1, affine=True, track_running_stats=True)\n",
       "    )\n",
       "  )\n",
       "  (layer4): Sequential(\n",
       "    (0): BasicBlock(\n",
       "      (conv1): Conv2d(256, 512, kernel_size=(3, 3), stride=(2, 2), padding=(1, 1), bias=False)\n",
       "      (bn1): BatchNorm2d(512, eps=1e-05, momentum=0.1, affine=True, track_running_stats=True)\n",
       "      (relu): ReLU(inplace=True)\n",
       "      (conv2): Conv2d(512, 512, kernel_size=(3, 3), stride=(1, 1), padding=(1, 1), bias=False)\n",
       "      (bn2): BatchNorm2d(512, eps=1e-05, momentum=0.1, affine=True, track_running_stats=True)\n",
       "      (downsample): Sequential(\n",
       "        (0): Conv2d(256, 512, kernel_size=(1, 1), stride=(2, 2), bias=False)\n",
       "        (1): BatchNorm2d(512, eps=1e-05, momentum=0.1, affine=True, track_running_stats=True)\n",
       "      )\n",
       "    )\n",
       "    (1): BasicBlock(\n",
       "      (conv1): Conv2d(512, 512, kernel_size=(3, 3), stride=(1, 1), padding=(1, 1), bias=False)\n",
       "      (bn1): BatchNorm2d(512, eps=1e-05, momentum=0.1, affine=True, track_running_stats=True)\n",
       "      (relu): ReLU(inplace=True)\n",
       "      (conv2): Conv2d(512, 512, kernel_size=(3, 3), stride=(1, 1), padding=(1, 1), bias=False)\n",
       "      (bn2): BatchNorm2d(512, eps=1e-05, momentum=0.1, affine=True, track_running_stats=True)\n",
       "    )\n",
       "  )\n",
       "  (avgpool): AdaptiveAvgPool2d(output_size=(1, 1))\n",
       "  (fc): Linear(in_features=512, out_features=6, bias=True)\n",
       ")"
      ]
     },
     "execution_count": 25,
     "metadata": {},
     "output_type": "execute_result"
    }
   ],
   "source": [
    "train_model_with_test(model_5, creterion_5, optimizer_5, schedular_5)"
   ]
  },
  {
   "cell_type": "code",
   "execution_count": null,
   "id": "cc17e187",
   "metadata": {
    "papermill": {
     "duration": 0.05218,
     "end_time": "2022-05-13T22:58:12.993658",
     "exception": false,
     "start_time": "2022-05-13T22:58:12.941478",
     "status": "completed"
    },
    "tags": []
   },
   "outputs": [],
   "source": []
  }
 ],
 "metadata": {
  "kernelspec": {
   "display_name": "Python 3",
   "language": "python",
   "name": "python3"
  },
  "language_info": {
   "codemirror_mode": {
    "name": "ipython",
    "version": 3
   },
   "file_extension": ".py",
   "mimetype": "text/x-python",
   "name": "python",
   "nbconvert_exporter": "python",
   "pygments_lexer": "ipython3",
   "version": "3.7.12"
  },
  "papermill": {
   "default_parameters": {},
   "duration": 2190.774751,
   "end_time": "2022-05-13T22:58:14.279820",
   "environment_variables": {},
   "exception": null,
   "input_path": "__notebook__.ipynb",
   "output_path": "__notebook__.ipynb",
   "parameters": {},
   "start_time": "2022-05-13T22:21:43.505069",
   "version": "2.3.4"
  },
  "widgets": {
   "application/vnd.jupyter.widget-state+json": {
    "state": {
     "019ead1a0a6743428b297b6c02e17a60": {
      "model_module": "@jupyter-widgets/controls",
      "model_module_version": "1.5.0",
      "model_name": "HTMLModel",
      "state": {
       "_dom_classes": [],
       "_model_module": "@jupyter-widgets/controls",
       "_model_module_version": "1.5.0",
       "_model_name": "HTMLModel",
       "_view_count": null,
       "_view_module": "@jupyter-widgets/controls",
       "_view_module_version": "1.5.0",
       "_view_name": "HTMLView",
       "description": "",
       "description_tooltip": null,
       "layout": "IPY_MODEL_15033fb986da4d36915eb78aaaddd4c8",
       "placeholder": "​",
       "style": "IPY_MODEL_0f6134e1af994aeba673ad772c55a9cb",
       "value": "100%"
      }
     },
     "02e0af32d21942e5ac0df708d9964d99": {
      "model_module": "@jupyter-widgets/controls",
      "model_module_version": "1.5.0",
      "model_name": "HTMLModel",
      "state": {
       "_dom_classes": [],
       "_model_module": "@jupyter-widgets/controls",
       "_model_module_version": "1.5.0",
       "_model_name": "HTMLModel",
       "_view_count": null,
       "_view_module": "@jupyter-widgets/controls",
       "_view_module_version": "1.5.0",
       "_view_name": "HTMLView",
       "description": "",
       "description_tooltip": null,
       "layout": "IPY_MODEL_6a48df0b08a84ab39cc99654ae7cea64",
       "placeholder": "​",
       "style": "IPY_MODEL_7b05c7201647409b8c3362024f4d4003",
       "value": " 3/3 [06:19&lt;00:00, 126.38s/it]"
      }
     },
     "06da9a6138b446578ddb7117be90e166": {
      "model_module": "@jupyter-widgets/controls",
      "model_module_version": "1.5.0",
      "model_name": "HTMLModel",
      "state": {
       "_dom_classes": [],
       "_model_module": "@jupyter-widgets/controls",
       "_model_module_version": "1.5.0",
       "_model_name": "HTMLModel",
       "_view_count": null,
       "_view_module": "@jupyter-widgets/controls",
       "_view_module_version": "1.5.0",
       "_view_name": "HTMLView",
       "description": "",
       "description_tooltip": null,
       "layout": "IPY_MODEL_2246c4b5874d4a2fbee03443406010f0",
       "placeholder": "​",
       "style": "IPY_MODEL_d8f859b759a44c6996f3672d290d3d50",
       "value": " 44.7M/44.7M [00:02&lt;00:00, 23.6MB/s]"
      }
     },
     "0f6134e1af994aeba673ad772c55a9cb": {
      "model_module": "@jupyter-widgets/controls",
      "model_module_version": "1.5.0",
      "model_name": "DescriptionStyleModel",
      "state": {
       "_model_module": "@jupyter-widgets/controls",
       "_model_module_version": "1.5.0",
       "_model_name": "DescriptionStyleModel",
       "_view_count": null,
       "_view_module": "@jupyter-widgets/base",
       "_view_module_version": "1.2.0",
       "_view_name": "StyleView",
       "description_width": ""
      }
     },
     "1022def14e7c4f4ea51fb8a1a80ccfa7": {
      "model_module": "@jupyter-widgets/controls",
      "model_module_version": "1.5.0",
      "model_name": "ProgressStyleModel",
      "state": {
       "_model_module": "@jupyter-widgets/controls",
       "_model_module_version": "1.5.0",
       "_model_name": "ProgressStyleModel",
       "_view_count": null,
       "_view_module": "@jupyter-widgets/base",
       "_view_module_version": "1.2.0",
       "_view_name": "StyleView",
       "bar_color": null,
       "description_width": ""
      }
     },
     "12f8288b39024aa1a0c664e8b79a3f88": {
      "model_module": "@jupyter-widgets/controls",
      "model_module_version": "1.5.0",
      "model_name": "HTMLModel",
      "state": {
       "_dom_classes": [],
       "_model_module": "@jupyter-widgets/controls",
       "_model_module_version": "1.5.0",
       "_model_name": "HTMLModel",
       "_view_count": null,
       "_view_module": "@jupyter-widgets/controls",
       "_view_module_version": "1.5.0",
       "_view_name": "HTMLView",
       "description": "",
       "description_tooltip": null,
       "layout": "IPY_MODEL_940d2390f61d41f28770fced4e1fa688",
       "placeholder": "​",
       "style": "IPY_MODEL_6ab2b47f1b7a4df695ed86a474b89633",
       "value": " 3/3 [06:13&lt;00:00, 124.57s/it]"
      }
     },
     "15033fb986da4d36915eb78aaaddd4c8": {
      "model_module": "@jupyter-widgets/base",
      "model_module_version": "1.2.0",
      "model_name": "LayoutModel",
      "state": {
       "_model_module": "@jupyter-widgets/base",
       "_model_module_version": "1.2.0",
       "_model_name": "LayoutModel",
       "_view_count": null,
       "_view_module": "@jupyter-widgets/base",
       "_view_module_version": "1.2.0",
       "_view_name": "LayoutView",
       "align_content": null,
       "align_items": null,
       "align_self": null,
       "border": null,
       "bottom": null,
       "display": null,
       "flex": null,
       "flex_flow": null,
       "grid_area": null,
       "grid_auto_columns": null,
       "grid_auto_flow": null,
       "grid_auto_rows": null,
       "grid_column": null,
       "grid_gap": null,
       "grid_row": null,
       "grid_template_areas": null,
       "grid_template_columns": null,
       "grid_template_rows": null,
       "height": null,
       "justify_content": null,
       "justify_items": null,
       "left": null,
       "margin": null,
       "max_height": null,
       "max_width": null,
       "min_height": null,
       "min_width": null,
       "object_fit": null,
       "object_position": null,
       "order": null,
       "overflow": null,
       "overflow_x": null,
       "overflow_y": null,
       "padding": null,
       "right": null,
       "top": null,
       "visibility": null,
       "width": null
      }
     },
     "170a3a6244ce4c59b959c62cb55e0ed6": {
      "model_module": "@jupyter-widgets/controls",
      "model_module_version": "1.5.0",
      "model_name": "DescriptionStyleModel",
      "state": {
       "_model_module": "@jupyter-widgets/controls",
       "_model_module_version": "1.5.0",
       "_model_name": "DescriptionStyleModel",
       "_view_count": null,
       "_view_module": "@jupyter-widgets/base",
       "_view_module_version": "1.2.0",
       "_view_name": "StyleView",
       "description_width": ""
      }
     },
     "2246c4b5874d4a2fbee03443406010f0": {
      "model_module": "@jupyter-widgets/base",
      "model_module_version": "1.2.0",
      "model_name": "LayoutModel",
      "state": {
       "_model_module": "@jupyter-widgets/base",
       "_model_module_version": "1.2.0",
       "_model_name": "LayoutModel",
       "_view_count": null,
       "_view_module": "@jupyter-widgets/base",
       "_view_module_version": "1.2.0",
       "_view_name": "LayoutView",
       "align_content": null,
       "align_items": null,
       "align_self": null,
       "border": null,
       "bottom": null,
       "display": null,
       "flex": null,
       "flex_flow": null,
       "grid_area": null,
       "grid_auto_columns": null,
       "grid_auto_flow": null,
       "grid_auto_rows": null,
       "grid_column": null,
       "grid_gap": null,
       "grid_row": null,
       "grid_template_areas": null,
       "grid_template_columns": null,
       "grid_template_rows": null,
       "height": null,
       "justify_content": null,
       "justify_items": null,
       "left": null,
       "margin": null,
       "max_height": null,
       "max_width": null,
       "min_height": null,
       "min_width": null,
       "object_fit": null,
       "object_position": null,
       "order": null,
       "overflow": null,
       "overflow_x": null,
       "overflow_y": null,
       "padding": null,
       "right": null,
       "top": null,
       "visibility": null,
       "width": null
      }
     },
     "27dd64229fc2481d97135632cebfb781": {
      "model_module": "@jupyter-widgets/controls",
      "model_module_version": "1.5.0",
      "model_name": "HTMLModel",
      "state": {
       "_dom_classes": [],
       "_model_module": "@jupyter-widgets/controls",
       "_model_module_version": "1.5.0",
       "_model_name": "HTMLModel",
       "_view_count": null,
       "_view_module": "@jupyter-widgets/controls",
       "_view_module_version": "1.5.0",
       "_view_name": "HTMLView",
       "description": "",
       "description_tooltip": null,
       "layout": "IPY_MODEL_e1e060a7035748229de1a674984d8a54",
       "placeholder": "​",
       "style": "IPY_MODEL_b22fd39e2e1b4247a37aab777cad8a08",
       "value": "100%"
      }
     },
     "3d0d9acd74cb462abd0aad84b76b9807": {
      "model_module": "@jupyter-widgets/base",
      "model_module_version": "1.2.0",
      "model_name": "LayoutModel",
      "state": {
       "_model_module": "@jupyter-widgets/base",
       "_model_module_version": "1.2.0",
       "_model_name": "LayoutModel",
       "_view_count": null,
       "_view_module": "@jupyter-widgets/base",
       "_view_module_version": "1.2.0",
       "_view_name": "LayoutView",
       "align_content": null,
       "align_items": null,
       "align_self": null,
       "border": null,
       "bottom": null,
       "display": null,
       "flex": null,
       "flex_flow": null,
       "grid_area": null,
       "grid_auto_columns": null,
       "grid_auto_flow": null,
       "grid_auto_rows": null,
       "grid_column": null,
       "grid_gap": null,
       "grid_row": null,
       "grid_template_areas": null,
       "grid_template_columns": null,
       "grid_template_rows": null,
       "height": null,
       "justify_content": null,
       "justify_items": null,
       "left": null,
       "margin": null,
       "max_height": null,
       "max_width": null,
       "min_height": null,
       "min_width": null,
       "object_fit": null,
       "object_position": null,
       "order": null,
       "overflow": null,
       "overflow_x": null,
       "overflow_y": null,
       "padding": null,
       "right": null,
       "top": null,
       "visibility": null,
       "width": null
      }
     },
     "3ff54bb95cc84d0b84859121ae0f9e83": {
      "model_module": "@jupyter-widgets/base",
      "model_module_version": "1.2.0",
      "model_name": "LayoutModel",
      "state": {
       "_model_module": "@jupyter-widgets/base",
       "_model_module_version": "1.2.0",
       "_model_name": "LayoutModel",
       "_view_count": null,
       "_view_module": "@jupyter-widgets/base",
       "_view_module_version": "1.2.0",
       "_view_name": "LayoutView",
       "align_content": null,
       "align_items": null,
       "align_self": null,
       "border": null,
       "bottom": null,
       "display": null,
       "flex": null,
       "flex_flow": null,
       "grid_area": null,
       "grid_auto_columns": null,
       "grid_auto_flow": null,
       "grid_auto_rows": null,
       "grid_column": null,
       "grid_gap": null,
       "grid_row": null,
       "grid_template_areas": null,
       "grid_template_columns": null,
       "grid_template_rows": null,
       "height": null,
       "justify_content": null,
       "justify_items": null,
       "left": null,
       "margin": null,
       "max_height": null,
       "max_width": null,
       "min_height": null,
       "min_width": null,
       "object_fit": null,
       "object_position": null,
       "order": null,
       "overflow": null,
       "overflow_x": null,
       "overflow_y": null,
       "padding": null,
       "right": null,
       "top": null,
       "visibility": null,
       "width": null
      }
     },
     "436df018f73c4271a6eb8f39a33281ac": {
      "model_module": "@jupyter-widgets/controls",
      "model_module_version": "1.5.0",
      "model_name": "HBoxModel",
      "state": {
       "_dom_classes": [],
       "_model_module": "@jupyter-widgets/controls",
       "_model_module_version": "1.5.0",
       "_model_name": "HBoxModel",
       "_view_count": null,
       "_view_module": "@jupyter-widgets/controls",
       "_view_module_version": "1.5.0",
       "_view_name": "HBoxView",
       "box_style": "",
       "children": [
        "IPY_MODEL_c980fefa27ac4c00ab46995236de9745",
        "IPY_MODEL_654048ada21b4ba3909254aeb8551b51",
        "IPY_MODEL_d59765126d1748449ac4cbac34aea9c6"
       ],
       "layout": "IPY_MODEL_8763cacb96584a8c90fbdf7aef3b8bf5"
      }
     },
     "546cdbf94a3143a08cbc80a8fb43e270": {
      "model_module": "@jupyter-widgets/controls",
      "model_module_version": "1.5.0",
      "model_name": "ProgressStyleModel",
      "state": {
       "_model_module": "@jupyter-widgets/controls",
       "_model_module_version": "1.5.0",
       "_model_name": "ProgressStyleModel",
       "_view_count": null,
       "_view_module": "@jupyter-widgets/base",
       "_view_module_version": "1.2.0",
       "_view_name": "StyleView",
       "bar_color": null,
       "description_width": ""
      }
     },
     "58a1cf2caf4d4dd5afc396eebff9de5b": {
      "model_module": "@jupyter-widgets/base",
      "model_module_version": "1.2.0",
      "model_name": "LayoutModel",
      "state": {
       "_model_module": "@jupyter-widgets/base",
       "_model_module_version": "1.2.0",
       "_model_name": "LayoutModel",
       "_view_count": null,
       "_view_module": "@jupyter-widgets/base",
       "_view_module_version": "1.2.0",
       "_view_name": "LayoutView",
       "align_content": null,
       "align_items": null,
       "align_self": null,
       "border": null,
       "bottom": null,
       "display": null,
       "flex": null,
       "flex_flow": null,
       "grid_area": null,
       "grid_auto_columns": null,
       "grid_auto_flow": null,
       "grid_auto_rows": null,
       "grid_column": null,
       "grid_gap": null,
       "grid_row": null,
       "grid_template_areas": null,
       "grid_template_columns": null,
       "grid_template_rows": null,
       "height": null,
       "justify_content": null,
       "justify_items": null,
       "left": null,
       "margin": null,
       "max_height": null,
       "max_width": null,
       "min_height": null,
       "min_width": null,
       "object_fit": null,
       "object_position": null,
       "order": null,
       "overflow": null,
       "overflow_x": null,
       "overflow_y": null,
       "padding": null,
       "right": null,
       "top": null,
       "visibility": null,
       "width": null
      }
     },
     "5a643859b4ce44e099f432795a1e5ecf": {
      "model_module": "@jupyter-widgets/controls",
      "model_module_version": "1.5.0",
      "model_name": "FloatProgressModel",
      "state": {
       "_dom_classes": [],
       "_model_module": "@jupyter-widgets/controls",
       "_model_module_version": "1.5.0",
       "_model_name": "FloatProgressModel",
       "_view_count": null,
       "_view_module": "@jupyter-widgets/controls",
       "_view_module_version": "1.5.0",
       "_view_name": "ProgressView",
       "bar_style": "success",
       "description": "",
       "description_tooltip": null,
       "layout": "IPY_MODEL_c4891325002144eb9cea291f04994be5",
       "max": 46830571.0,
       "min": 0.0,
       "orientation": "horizontal",
       "style": "IPY_MODEL_546cdbf94a3143a08cbc80a8fb43e270",
       "value": 46830571.0
      }
     },
     "6116cd10a4d14438844304d167b0bd22": {
      "model_module": "@jupyter-widgets/controls",
      "model_module_version": "1.5.0",
      "model_name": "FloatProgressModel",
      "state": {
       "_dom_classes": [],
       "_model_module": "@jupyter-widgets/controls",
       "_model_module_version": "1.5.0",
       "_model_name": "FloatProgressModel",
       "_view_count": null,
       "_view_module": "@jupyter-widgets/controls",
       "_view_module_version": "1.5.0",
       "_view_name": "ProgressView",
       "bar_style": "success",
       "description": "",
       "description_tooltip": null,
       "layout": "IPY_MODEL_a8271d9627374ca6b5620e41ace46578",
       "max": 3.0,
       "min": 0.0,
       "orientation": "horizontal",
       "style": "IPY_MODEL_1022def14e7c4f4ea51fb8a1a80ccfa7",
       "value": 3.0
      }
     },
     "61e719915ab7440c94f0da21f1ee7855": {
      "model_module": "@jupyter-widgets/controls",
      "model_module_version": "1.5.0",
      "model_name": "HBoxModel",
      "state": {
       "_dom_classes": [],
       "_model_module": "@jupyter-widgets/controls",
       "_model_module_version": "1.5.0",
       "_model_name": "HBoxModel",
       "_view_count": null,
       "_view_module": "@jupyter-widgets/controls",
       "_view_module_version": "1.5.0",
       "_view_name": "HBoxView",
       "box_style": "",
       "children": [
        "IPY_MODEL_019ead1a0a6743428b297b6c02e17a60",
        "IPY_MODEL_7c1fb2dbb182428cbda6fbcea75868cf",
        "IPY_MODEL_e43a26291a6341e1ae7dac0998ad5de3"
       ],
       "layout": "IPY_MODEL_7e15acc2d6664a9fae0c2fa67f571188"
      }
     },
     "654048ada21b4ba3909254aeb8551b51": {
      "model_module": "@jupyter-widgets/controls",
      "model_module_version": "1.5.0",
      "model_name": "FloatProgressModel",
      "state": {
       "_dom_classes": [],
       "_model_module": "@jupyter-widgets/controls",
       "_model_module_version": "1.5.0",
       "_model_name": "FloatProgressModel",
       "_view_count": null,
       "_view_module": "@jupyter-widgets/controls",
       "_view_module_version": "1.5.0",
       "_view_name": "ProgressView",
       "bar_style": "success",
       "description": "",
       "description_tooltip": null,
       "layout": "IPY_MODEL_58a1cf2caf4d4dd5afc396eebff9de5b",
       "max": 3.0,
       "min": 0.0,
       "orientation": "horizontal",
       "style": "IPY_MODEL_c13ae6ac20874763be007d8bfc4d4828",
       "value": 3.0
      }
     },
     "67df857e5da9402d815c3eedfcb4e001": {
      "model_module": "@jupyter-widgets/controls",
      "model_module_version": "1.5.0",
      "model_name": "DescriptionStyleModel",
      "state": {
       "_model_module": "@jupyter-widgets/controls",
       "_model_module_version": "1.5.0",
       "_model_name": "DescriptionStyleModel",
       "_view_count": null,
       "_view_module": "@jupyter-widgets/base",
       "_view_module_version": "1.2.0",
       "_view_name": "StyleView",
       "description_width": ""
      }
     },
     "6a48df0b08a84ab39cc99654ae7cea64": {
      "model_module": "@jupyter-widgets/base",
      "model_module_version": "1.2.0",
      "model_name": "LayoutModel",
      "state": {
       "_model_module": "@jupyter-widgets/base",
       "_model_module_version": "1.2.0",
       "_model_name": "LayoutModel",
       "_view_count": null,
       "_view_module": "@jupyter-widgets/base",
       "_view_module_version": "1.2.0",
       "_view_name": "LayoutView",
       "align_content": null,
       "align_items": null,
       "align_self": null,
       "border": null,
       "bottom": null,
       "display": null,
       "flex": null,
       "flex_flow": null,
       "grid_area": null,
       "grid_auto_columns": null,
       "grid_auto_flow": null,
       "grid_auto_rows": null,
       "grid_column": null,
       "grid_gap": null,
       "grid_row": null,
       "grid_template_areas": null,
       "grid_template_columns": null,
       "grid_template_rows": null,
       "height": null,
       "justify_content": null,
       "justify_items": null,
       "left": null,
       "margin": null,
       "max_height": null,
       "max_width": null,
       "min_height": null,
       "min_width": null,
       "object_fit": null,
       "object_position": null,
       "order": null,
       "overflow": null,
       "overflow_x": null,
       "overflow_y": null,
       "padding": null,
       "right": null,
       "top": null,
       "visibility": null,
       "width": null
      }
     },
     "6ab2b47f1b7a4df695ed86a474b89633": {
      "model_module": "@jupyter-widgets/controls",
      "model_module_version": "1.5.0",
      "model_name": "DescriptionStyleModel",
      "state": {
       "_model_module": "@jupyter-widgets/controls",
       "_model_module_version": "1.5.0",
       "_model_name": "DescriptionStyleModel",
       "_view_count": null,
       "_view_module": "@jupyter-widgets/base",
       "_view_module_version": "1.2.0",
       "_view_name": "StyleView",
       "description_width": ""
      }
     },
     "6f31d65df11343438bc382e77e302e3c": {
      "model_module": "@jupyter-widgets/base",
      "model_module_version": "1.2.0",
      "model_name": "LayoutModel",
      "state": {
       "_model_module": "@jupyter-widgets/base",
       "_model_module_version": "1.2.0",
       "_model_name": "LayoutModel",
       "_view_count": null,
       "_view_module": "@jupyter-widgets/base",
       "_view_module_version": "1.2.0",
       "_view_name": "LayoutView",
       "align_content": null,
       "align_items": null,
       "align_self": null,
       "border": null,
       "bottom": null,
       "display": null,
       "flex": null,
       "flex_flow": null,
       "grid_area": null,
       "grid_auto_columns": null,
       "grid_auto_flow": null,
       "grid_auto_rows": null,
       "grid_column": null,
       "grid_gap": null,
       "grid_row": null,
       "grid_template_areas": null,
       "grid_template_columns": null,
       "grid_template_rows": null,
       "height": null,
       "justify_content": null,
       "justify_items": null,
       "left": null,
       "margin": null,
       "max_height": null,
       "max_width": null,
       "min_height": null,
       "min_width": null,
       "object_fit": null,
       "object_position": null,
       "order": null,
       "overflow": null,
       "overflow_x": null,
       "overflow_y": null,
       "padding": null,
       "right": null,
       "top": null,
       "visibility": null,
       "width": null
      }
     },
     "7a9634e03d1d45c3b06e19b9663e5c12": {
      "model_module": "@jupyter-widgets/base",
      "model_module_version": "1.2.0",
      "model_name": "LayoutModel",
      "state": {
       "_model_module": "@jupyter-widgets/base",
       "_model_module_version": "1.2.0",
       "_model_name": "LayoutModel",
       "_view_count": null,
       "_view_module": "@jupyter-widgets/base",
       "_view_module_version": "1.2.0",
       "_view_name": "LayoutView",
       "align_content": null,
       "align_items": null,
       "align_self": null,
       "border": null,
       "bottom": null,
       "display": null,
       "flex": null,
       "flex_flow": null,
       "grid_area": null,
       "grid_auto_columns": null,
       "grid_auto_flow": null,
       "grid_auto_rows": null,
       "grid_column": null,
       "grid_gap": null,
       "grid_row": null,
       "grid_template_areas": null,
       "grid_template_columns": null,
       "grid_template_rows": null,
       "height": null,
       "justify_content": null,
       "justify_items": null,
       "left": null,
       "margin": null,
       "max_height": null,
       "max_width": null,
       "min_height": null,
       "min_width": null,
       "object_fit": null,
       "object_position": null,
       "order": null,
       "overflow": null,
       "overflow_x": null,
       "overflow_y": null,
       "padding": null,
       "right": null,
       "top": null,
       "visibility": null,
       "width": null
      }
     },
     "7b05c7201647409b8c3362024f4d4003": {
      "model_module": "@jupyter-widgets/controls",
      "model_module_version": "1.5.0",
      "model_name": "DescriptionStyleModel",
      "state": {
       "_model_module": "@jupyter-widgets/controls",
       "_model_module_version": "1.5.0",
       "_model_name": "DescriptionStyleModel",
       "_view_count": null,
       "_view_module": "@jupyter-widgets/base",
       "_view_module_version": "1.2.0",
       "_view_name": "StyleView",
       "description_width": ""
      }
     },
     "7c1fb2dbb182428cbda6fbcea75868cf": {
      "model_module": "@jupyter-widgets/controls",
      "model_module_version": "1.5.0",
      "model_name": "FloatProgressModel",
      "state": {
       "_dom_classes": [],
       "_model_module": "@jupyter-widgets/controls",
       "_model_module_version": "1.5.0",
       "_model_name": "FloatProgressModel",
       "_view_count": null,
       "_view_module": "@jupyter-widgets/controls",
       "_view_module_version": "1.5.0",
       "_view_name": "ProgressView",
       "bar_style": "success",
       "description": "",
       "description_tooltip": null,
       "layout": "IPY_MODEL_7a9634e03d1d45c3b06e19b9663e5c12",
       "max": 3.0,
       "min": 0.0,
       "orientation": "horizontal",
       "style": "IPY_MODEL_9c162f2a3894490bab4dd62a9a02376f",
       "value": 3.0
      }
     },
     "7e15acc2d6664a9fae0c2fa67f571188": {
      "model_module": "@jupyter-widgets/base",
      "model_module_version": "1.2.0",
      "model_name": "LayoutModel",
      "state": {
       "_model_module": "@jupyter-widgets/base",
       "_model_module_version": "1.2.0",
       "_model_name": "LayoutModel",
       "_view_count": null,
       "_view_module": "@jupyter-widgets/base",
       "_view_module_version": "1.2.0",
       "_view_name": "LayoutView",
       "align_content": null,
       "align_items": null,
       "align_self": null,
       "border": null,
       "bottom": null,
       "display": null,
       "flex": null,
       "flex_flow": null,
       "grid_area": null,
       "grid_auto_columns": null,
       "grid_auto_flow": null,
       "grid_auto_rows": null,
       "grid_column": null,
       "grid_gap": null,
       "grid_row": null,
       "grid_template_areas": null,
       "grid_template_columns": null,
       "grid_template_rows": null,
       "height": null,
       "justify_content": null,
       "justify_items": null,
       "left": null,
       "margin": null,
       "max_height": null,
       "max_width": null,
       "min_height": null,
       "min_width": null,
       "object_fit": null,
       "object_position": null,
       "order": null,
       "overflow": null,
       "overflow_x": null,
       "overflow_y": null,
       "padding": null,
       "right": null,
       "top": null,
       "visibility": null,
       "width": null
      }
     },
     "8094463c5f8f43968e5711f7bcb66b6d": {
      "model_module": "@jupyter-widgets/controls",
      "model_module_version": "1.5.0",
      "model_name": "DescriptionStyleModel",
      "state": {
       "_model_module": "@jupyter-widgets/controls",
       "_model_module_version": "1.5.0",
       "_model_name": "DescriptionStyleModel",
       "_view_count": null,
       "_view_module": "@jupyter-widgets/base",
       "_view_module_version": "1.2.0",
       "_view_name": "StyleView",
       "description_width": ""
      }
     },
     "8763cacb96584a8c90fbdf7aef3b8bf5": {
      "model_module": "@jupyter-widgets/base",
      "model_module_version": "1.2.0",
      "model_name": "LayoutModel",
      "state": {
       "_model_module": "@jupyter-widgets/base",
       "_model_module_version": "1.2.0",
       "_model_name": "LayoutModel",
       "_view_count": null,
       "_view_module": "@jupyter-widgets/base",
       "_view_module_version": "1.2.0",
       "_view_name": "LayoutView",
       "align_content": null,
       "align_items": null,
       "align_self": null,
       "border": null,
       "bottom": null,
       "display": null,
       "flex": null,
       "flex_flow": null,
       "grid_area": null,
       "grid_auto_columns": null,
       "grid_auto_flow": null,
       "grid_auto_rows": null,
       "grid_column": null,
       "grid_gap": null,
       "grid_row": null,
       "grid_template_areas": null,
       "grid_template_columns": null,
       "grid_template_rows": null,
       "height": null,
       "justify_content": null,
       "justify_items": null,
       "left": null,
       "margin": null,
       "max_height": null,
       "max_width": null,
       "min_height": null,
       "min_width": null,
       "object_fit": null,
       "object_position": null,
       "order": null,
       "overflow": null,
       "overflow_x": null,
       "overflow_y": null,
       "padding": null,
       "right": null,
       "top": null,
       "visibility": null,
       "width": null
      }
     },
     "88bb918bbe2144ccb76532d7e541270d": {
      "model_module": "@jupyter-widgets/controls",
      "model_module_version": "1.5.0",
      "model_name": "DescriptionStyleModel",
      "state": {
       "_model_module": "@jupyter-widgets/controls",
       "_model_module_version": "1.5.0",
       "_model_name": "DescriptionStyleModel",
       "_view_count": null,
       "_view_module": "@jupyter-widgets/base",
       "_view_module_version": "1.2.0",
       "_view_name": "StyleView",
       "description_width": ""
      }
     },
     "940d2390f61d41f28770fced4e1fa688": {
      "model_module": "@jupyter-widgets/base",
      "model_module_version": "1.2.0",
      "model_name": "LayoutModel",
      "state": {
       "_model_module": "@jupyter-widgets/base",
       "_model_module_version": "1.2.0",
       "_model_name": "LayoutModel",
       "_view_count": null,
       "_view_module": "@jupyter-widgets/base",
       "_view_module_version": "1.2.0",
       "_view_name": "LayoutView",
       "align_content": null,
       "align_items": null,
       "align_self": null,
       "border": null,
       "bottom": null,
       "display": null,
       "flex": null,
       "flex_flow": null,
       "grid_area": null,
       "grid_auto_columns": null,
       "grid_auto_flow": null,
       "grid_auto_rows": null,
       "grid_column": null,
       "grid_gap": null,
       "grid_row": null,
       "grid_template_areas": null,
       "grid_template_columns": null,
       "grid_template_rows": null,
       "height": null,
       "justify_content": null,
       "justify_items": null,
       "left": null,
       "margin": null,
       "max_height": null,
       "max_width": null,
       "min_height": null,
       "min_width": null,
       "object_fit": null,
       "object_position": null,
       "order": null,
       "overflow": null,
       "overflow_x": null,
       "overflow_y": null,
       "padding": null,
       "right": null,
       "top": null,
       "visibility": null,
       "width": null
      }
     },
     "98158545ac4e4c19b2680123553ab9b2": {
      "model_module": "@jupyter-widgets/controls",
      "model_module_version": "1.5.0",
      "model_name": "ProgressStyleModel",
      "state": {
       "_model_module": "@jupyter-widgets/controls",
       "_model_module_version": "1.5.0",
       "_model_name": "ProgressStyleModel",
       "_view_count": null,
       "_view_module": "@jupyter-widgets/base",
       "_view_module_version": "1.2.0",
       "_view_name": "StyleView",
       "bar_color": null,
       "description_width": ""
      }
     },
     "9899ba63344c40588d3a2e697acedb90": {
      "model_module": "@jupyter-widgets/controls",
      "model_module_version": "1.5.0",
      "model_name": "HBoxModel",
      "state": {
       "_dom_classes": [],
       "_model_module": "@jupyter-widgets/controls",
       "_model_module_version": "1.5.0",
       "_model_name": "HBoxModel",
       "_view_count": null,
       "_view_module": "@jupyter-widgets/controls",
       "_view_module_version": "1.5.0",
       "_view_name": "HBoxView",
       "box_style": "",
       "children": [
        "IPY_MODEL_c566930445a948b99df525ea166c802d",
        "IPY_MODEL_5a643859b4ce44e099f432795a1e5ecf",
        "IPY_MODEL_06da9a6138b446578ddb7117be90e166"
       ],
       "layout": "IPY_MODEL_9a19d0af4ca64f6897099dadc6108b9e"
      }
     },
     "9a19d0af4ca64f6897099dadc6108b9e": {
      "model_module": "@jupyter-widgets/base",
      "model_module_version": "1.2.0",
      "model_name": "LayoutModel",
      "state": {
       "_model_module": "@jupyter-widgets/base",
       "_model_module_version": "1.2.0",
       "_model_name": "LayoutModel",
       "_view_count": null,
       "_view_module": "@jupyter-widgets/base",
       "_view_module_version": "1.2.0",
       "_view_name": "LayoutView",
       "align_content": null,
       "align_items": null,
       "align_self": null,
       "border": null,
       "bottom": null,
       "display": null,
       "flex": null,
       "flex_flow": null,
       "grid_area": null,
       "grid_auto_columns": null,
       "grid_auto_flow": null,
       "grid_auto_rows": null,
       "grid_column": null,
       "grid_gap": null,
       "grid_row": null,
       "grid_template_areas": null,
       "grid_template_columns": null,
       "grid_template_rows": null,
       "height": null,
       "justify_content": null,
       "justify_items": null,
       "left": null,
       "margin": null,
       "max_height": null,
       "max_width": null,
       "min_height": null,
       "min_width": null,
       "object_fit": null,
       "object_position": null,
       "order": null,
       "overflow": null,
       "overflow_x": null,
       "overflow_y": null,
       "padding": null,
       "right": null,
       "top": null,
       "visibility": null,
       "width": null
      }
     },
     "9c162f2a3894490bab4dd62a9a02376f": {
      "model_module": "@jupyter-widgets/controls",
      "model_module_version": "1.5.0",
      "model_name": "ProgressStyleModel",
      "state": {
       "_model_module": "@jupyter-widgets/controls",
       "_model_module_version": "1.5.0",
       "_model_name": "ProgressStyleModel",
       "_view_count": null,
       "_view_module": "@jupyter-widgets/base",
       "_view_module_version": "1.2.0",
       "_view_name": "StyleView",
       "bar_color": null,
       "description_width": ""
      }
     },
     "a8271d9627374ca6b5620e41ace46578": {
      "model_module": "@jupyter-widgets/base",
      "model_module_version": "1.2.0",
      "model_name": "LayoutModel",
      "state": {
       "_model_module": "@jupyter-widgets/base",
       "_model_module_version": "1.2.0",
       "_model_name": "LayoutModel",
       "_view_count": null,
       "_view_module": "@jupyter-widgets/base",
       "_view_module_version": "1.2.0",
       "_view_name": "LayoutView",
       "align_content": null,
       "align_items": null,
       "align_self": null,
       "border": null,
       "bottom": null,
       "display": null,
       "flex": null,
       "flex_flow": null,
       "grid_area": null,
       "grid_auto_columns": null,
       "grid_auto_flow": null,
       "grid_auto_rows": null,
       "grid_column": null,
       "grid_gap": null,
       "grid_row": null,
       "grid_template_areas": null,
       "grid_template_columns": null,
       "grid_template_rows": null,
       "height": null,
       "justify_content": null,
       "justify_items": null,
       "left": null,
       "margin": null,
       "max_height": null,
       "max_width": null,
       "min_height": null,
       "min_width": null,
       "object_fit": null,
       "object_position": null,
       "order": null,
       "overflow": null,
       "overflow_x": null,
       "overflow_y": null,
       "padding": null,
       "right": null,
       "top": null,
       "visibility": null,
       "width": null
      }
     },
     "ad2f2be7bc814f38881651c0a31c5734": {
      "model_module": "@jupyter-widgets/controls",
      "model_module_version": "1.5.0",
      "model_name": "DescriptionStyleModel",
      "state": {
       "_model_module": "@jupyter-widgets/controls",
       "_model_module_version": "1.5.0",
       "_model_name": "DescriptionStyleModel",
       "_view_count": null,
       "_view_module": "@jupyter-widgets/base",
       "_view_module_version": "1.2.0",
       "_view_name": "StyleView",
       "description_width": ""
      }
     },
     "b22fd39e2e1b4247a37aab777cad8a08": {
      "model_module": "@jupyter-widgets/controls",
      "model_module_version": "1.5.0",
      "model_name": "DescriptionStyleModel",
      "state": {
       "_model_module": "@jupyter-widgets/controls",
       "_model_module_version": "1.5.0",
       "_model_name": "DescriptionStyleModel",
       "_view_count": null,
       "_view_module": "@jupyter-widgets/base",
       "_view_module_version": "1.2.0",
       "_view_name": "StyleView",
       "description_width": ""
      }
     },
     "b4049aa286054d6aa648d1ace548e6e3": {
      "model_module": "@jupyter-widgets/base",
      "model_module_version": "1.2.0",
      "model_name": "LayoutModel",
      "state": {
       "_model_module": "@jupyter-widgets/base",
       "_model_module_version": "1.2.0",
       "_model_name": "LayoutModel",
       "_view_count": null,
       "_view_module": "@jupyter-widgets/base",
       "_view_module_version": "1.2.0",
       "_view_name": "LayoutView",
       "align_content": null,
       "align_items": null,
       "align_self": null,
       "border": null,
       "bottom": null,
       "display": null,
       "flex": null,
       "flex_flow": null,
       "grid_area": null,
       "grid_auto_columns": null,
       "grid_auto_flow": null,
       "grid_auto_rows": null,
       "grid_column": null,
       "grid_gap": null,
       "grid_row": null,
       "grid_template_areas": null,
       "grid_template_columns": null,
       "grid_template_rows": null,
       "height": null,
       "justify_content": null,
       "justify_items": null,
       "left": null,
       "margin": null,
       "max_height": null,
       "max_width": null,
       "min_height": null,
       "min_width": null,
       "object_fit": null,
       "object_position": null,
       "order": null,
       "overflow": null,
       "overflow_x": null,
       "overflow_y": null,
       "padding": null,
       "right": null,
       "top": null,
       "visibility": null,
       "width": null
      }
     },
     "b874234e0fd94a1dbf79c489d10fd5d7": {
      "model_module": "@jupyter-widgets/controls",
      "model_module_version": "1.5.0",
      "model_name": "FloatProgressModel",
      "state": {
       "_dom_classes": [],
       "_model_module": "@jupyter-widgets/controls",
       "_model_module_version": "1.5.0",
       "_model_name": "FloatProgressModel",
       "_view_count": null,
       "_view_module": "@jupyter-widgets/controls",
       "_view_module_version": "1.5.0",
       "_view_name": "ProgressView",
       "bar_style": "success",
       "description": "",
       "description_tooltip": null,
       "layout": "IPY_MODEL_6f31d65df11343438bc382e77e302e3c",
       "max": 3.0,
       "min": 0.0,
       "orientation": "horizontal",
       "style": "IPY_MODEL_98158545ac4e4c19b2680123553ab9b2",
       "value": 3.0
      }
     },
     "b9aa97c165224e5e961365aeea9df6a8": {
      "model_module": "@jupyter-widgets/controls",
      "model_module_version": "1.5.0",
      "model_name": "HTMLModel",
      "state": {
       "_dom_classes": [],
       "_model_module": "@jupyter-widgets/controls",
       "_model_module_version": "1.5.0",
       "_model_name": "HTMLModel",
       "_view_count": null,
       "_view_module": "@jupyter-widgets/controls",
       "_view_module_version": "1.5.0",
       "_view_name": "HTMLView",
       "description": "",
       "description_tooltip": null,
       "layout": "IPY_MODEL_b4049aa286054d6aa648d1ace548e6e3",
       "placeholder": "​",
       "style": "IPY_MODEL_ad2f2be7bc814f38881651c0a31c5734",
       "value": "100%"
      }
     },
     "bb449182e95e4e139cd1b818d9d180d9": {
      "model_module": "@jupyter-widgets/base",
      "model_module_version": "1.2.0",
      "model_name": "LayoutModel",
      "state": {
       "_model_module": "@jupyter-widgets/base",
       "_model_module_version": "1.2.0",
       "_model_name": "LayoutModel",
       "_view_count": null,
       "_view_module": "@jupyter-widgets/base",
       "_view_module_version": "1.2.0",
       "_view_name": "LayoutView",
       "align_content": null,
       "align_items": null,
       "align_self": null,
       "border": null,
       "bottom": null,
       "display": null,
       "flex": null,
       "flex_flow": null,
       "grid_area": null,
       "grid_auto_columns": null,
       "grid_auto_flow": null,
       "grid_auto_rows": null,
       "grid_column": null,
       "grid_gap": null,
       "grid_row": null,
       "grid_template_areas": null,
       "grid_template_columns": null,
       "grid_template_rows": null,
       "height": null,
       "justify_content": null,
       "justify_items": null,
       "left": null,
       "margin": null,
       "max_height": null,
       "max_width": null,
       "min_height": null,
       "min_width": null,
       "object_fit": null,
       "object_position": null,
       "order": null,
       "overflow": null,
       "overflow_x": null,
       "overflow_y": null,
       "padding": null,
       "right": null,
       "top": null,
       "visibility": null,
       "width": null
      }
     },
     "c13ae6ac20874763be007d8bfc4d4828": {
      "model_module": "@jupyter-widgets/controls",
      "model_module_version": "1.5.0",
      "model_name": "ProgressStyleModel",
      "state": {
       "_model_module": "@jupyter-widgets/controls",
       "_model_module_version": "1.5.0",
       "_model_name": "ProgressStyleModel",
       "_view_count": null,
       "_view_module": "@jupyter-widgets/base",
       "_view_module_version": "1.2.0",
       "_view_name": "StyleView",
       "bar_color": null,
       "description_width": ""
      }
     },
     "c17830e9dec04ba2a324b524f060ebc1": {
      "model_module": "@jupyter-widgets/controls",
      "model_module_version": "1.5.0",
      "model_name": "HBoxModel",
      "state": {
       "_dom_classes": [],
       "_model_module": "@jupyter-widgets/controls",
       "_model_module_version": "1.5.0",
       "_model_name": "HBoxModel",
       "_view_count": null,
       "_view_module": "@jupyter-widgets/controls",
       "_view_module_version": "1.5.0",
       "_view_name": "HBoxView",
       "box_style": "",
       "children": [
        "IPY_MODEL_b9aa97c165224e5e961365aeea9df6a8",
        "IPY_MODEL_6116cd10a4d14438844304d167b0bd22",
        "IPY_MODEL_02e0af32d21942e5ac0df708d9964d99"
       ],
       "layout": "IPY_MODEL_3ff54bb95cc84d0b84859121ae0f9e83"
      }
     },
     "c4891325002144eb9cea291f04994be5": {
      "model_module": "@jupyter-widgets/base",
      "model_module_version": "1.2.0",
      "model_name": "LayoutModel",
      "state": {
       "_model_module": "@jupyter-widgets/base",
       "_model_module_version": "1.2.0",
       "_model_name": "LayoutModel",
       "_view_count": null,
       "_view_module": "@jupyter-widgets/base",
       "_view_module_version": "1.2.0",
       "_view_name": "LayoutView",
       "align_content": null,
       "align_items": null,
       "align_self": null,
       "border": null,
       "bottom": null,
       "display": null,
       "flex": null,
       "flex_flow": null,
       "grid_area": null,
       "grid_auto_columns": null,
       "grid_auto_flow": null,
       "grid_auto_rows": null,
       "grid_column": null,
       "grid_gap": null,
       "grid_row": null,
       "grid_template_areas": null,
       "grid_template_columns": null,
       "grid_template_rows": null,
       "height": null,
       "justify_content": null,
       "justify_items": null,
       "left": null,
       "margin": null,
       "max_height": null,
       "max_width": null,
       "min_height": null,
       "min_width": null,
       "object_fit": null,
       "object_position": null,
       "order": null,
       "overflow": null,
       "overflow_x": null,
       "overflow_y": null,
       "padding": null,
       "right": null,
       "top": null,
       "visibility": null,
       "width": null
      }
     },
     "c4d6f224d1f44e179f899a585b174102": {
      "model_module": "@jupyter-widgets/controls",
      "model_module_version": "1.5.0",
      "model_name": "HBoxModel",
      "state": {
       "_dom_classes": [],
       "_model_module": "@jupyter-widgets/controls",
       "_model_module_version": "1.5.0",
       "_model_name": "HBoxModel",
       "_view_count": null,
       "_view_module": "@jupyter-widgets/controls",
       "_view_module_version": "1.5.0",
       "_view_name": "HBoxView",
       "box_style": "",
       "children": [
        "IPY_MODEL_27dd64229fc2481d97135632cebfb781",
        "IPY_MODEL_b874234e0fd94a1dbf79c489d10fd5d7",
        "IPY_MODEL_12f8288b39024aa1a0c664e8b79a3f88"
       ],
       "layout": "IPY_MODEL_e9854660da4a42bdb24dfd5993483ee6"
      }
     },
     "c566930445a948b99df525ea166c802d": {
      "model_module": "@jupyter-widgets/controls",
      "model_module_version": "1.5.0",
      "model_name": "HTMLModel",
      "state": {
       "_dom_classes": [],
       "_model_module": "@jupyter-widgets/controls",
       "_model_module_version": "1.5.0",
       "_model_name": "HTMLModel",
       "_view_count": null,
       "_view_module": "@jupyter-widgets/controls",
       "_view_module_version": "1.5.0",
       "_view_name": "HTMLView",
       "description": "",
       "description_tooltip": null,
       "layout": "IPY_MODEL_3d0d9acd74cb462abd0aad84b76b9807",
       "placeholder": "​",
       "style": "IPY_MODEL_8094463c5f8f43968e5711f7bcb66b6d",
       "value": "100%"
      }
     },
     "c980fefa27ac4c00ab46995236de9745": {
      "model_module": "@jupyter-widgets/controls",
      "model_module_version": "1.5.0",
      "model_name": "HTMLModel",
      "state": {
       "_dom_classes": [],
       "_model_module": "@jupyter-widgets/controls",
       "_model_module_version": "1.5.0",
       "_model_name": "HTMLModel",
       "_view_count": null,
       "_view_module": "@jupyter-widgets/controls",
       "_view_module_version": "1.5.0",
       "_view_name": "HTMLView",
       "description": "",
       "description_tooltip": null,
       "layout": "IPY_MODEL_ee8063cd78724cc8bab78270188f2169",
       "placeholder": "​",
       "style": "IPY_MODEL_170a3a6244ce4c59b959c62cb55e0ed6",
       "value": "100%"
      }
     },
     "d59765126d1748449ac4cbac34aea9c6": {
      "model_module": "@jupyter-widgets/controls",
      "model_module_version": "1.5.0",
      "model_name": "HTMLModel",
      "state": {
       "_dom_classes": [],
       "_model_module": "@jupyter-widgets/controls",
       "_model_module_version": "1.5.0",
       "_model_name": "HTMLModel",
       "_view_count": null,
       "_view_module": "@jupyter-widgets/controls",
       "_view_module_version": "1.5.0",
       "_view_name": "HTMLView",
       "description": "",
       "description_tooltip": null,
       "layout": "IPY_MODEL_bb449182e95e4e139cd1b818d9d180d9",
       "placeholder": "​",
       "style": "IPY_MODEL_67df857e5da9402d815c3eedfcb4e001",
       "value": " 3/3 [06:25&lt;00:00, 127.07s/it]"
      }
     },
     "d8f859b759a44c6996f3672d290d3d50": {
      "model_module": "@jupyter-widgets/controls",
      "model_module_version": "1.5.0",
      "model_name": "DescriptionStyleModel",
      "state": {
       "_model_module": "@jupyter-widgets/controls",
       "_model_module_version": "1.5.0",
       "_model_name": "DescriptionStyleModel",
       "_view_count": null,
       "_view_module": "@jupyter-widgets/base",
       "_view_module_version": "1.2.0",
       "_view_name": "StyleView",
       "description_width": ""
      }
     },
     "e1e060a7035748229de1a674984d8a54": {
      "model_module": "@jupyter-widgets/base",
      "model_module_version": "1.2.0",
      "model_name": "LayoutModel",
      "state": {
       "_model_module": "@jupyter-widgets/base",
       "_model_module_version": "1.2.0",
       "_model_name": "LayoutModel",
       "_view_count": null,
       "_view_module": "@jupyter-widgets/base",
       "_view_module_version": "1.2.0",
       "_view_name": "LayoutView",
       "align_content": null,
       "align_items": null,
       "align_self": null,
       "border": null,
       "bottom": null,
       "display": null,
       "flex": null,
       "flex_flow": null,
       "grid_area": null,
       "grid_auto_columns": null,
       "grid_auto_flow": null,
       "grid_auto_rows": null,
       "grid_column": null,
       "grid_gap": null,
       "grid_row": null,
       "grid_template_areas": null,
       "grid_template_columns": null,
       "grid_template_rows": null,
       "height": null,
       "justify_content": null,
       "justify_items": null,
       "left": null,
       "margin": null,
       "max_height": null,
       "max_width": null,
       "min_height": null,
       "min_width": null,
       "object_fit": null,
       "object_position": null,
       "order": null,
       "overflow": null,
       "overflow_x": null,
       "overflow_y": null,
       "padding": null,
       "right": null,
       "top": null,
       "visibility": null,
       "width": null
      }
     },
     "e43a26291a6341e1ae7dac0998ad5de3": {
      "model_module": "@jupyter-widgets/controls",
      "model_module_version": "1.5.0",
      "model_name": "HTMLModel",
      "state": {
       "_dom_classes": [],
       "_model_module": "@jupyter-widgets/controls",
       "_model_module_version": "1.5.0",
       "_model_name": "HTMLModel",
       "_view_count": null,
       "_view_module": "@jupyter-widgets/controls",
       "_view_module_version": "1.5.0",
       "_view_name": "HTMLView",
       "description": "",
       "description_tooltip": null,
       "layout": "IPY_MODEL_f81ab2c795e345f48a4a8fd331016f1f",
       "placeholder": "​",
       "style": "IPY_MODEL_88bb918bbe2144ccb76532d7e541270d",
       "value": " 3/3 [06:20&lt;00:00, 127.01s/it]"
      }
     },
     "e9854660da4a42bdb24dfd5993483ee6": {
      "model_module": "@jupyter-widgets/base",
      "model_module_version": "1.2.0",
      "model_name": "LayoutModel",
      "state": {
       "_model_module": "@jupyter-widgets/base",
       "_model_module_version": "1.2.0",
       "_model_name": "LayoutModel",
       "_view_count": null,
       "_view_module": "@jupyter-widgets/base",
       "_view_module_version": "1.2.0",
       "_view_name": "LayoutView",
       "align_content": null,
       "align_items": null,
       "align_self": null,
       "border": null,
       "bottom": null,
       "display": null,
       "flex": null,
       "flex_flow": null,
       "grid_area": null,
       "grid_auto_columns": null,
       "grid_auto_flow": null,
       "grid_auto_rows": null,
       "grid_column": null,
       "grid_gap": null,
       "grid_row": null,
       "grid_template_areas": null,
       "grid_template_columns": null,
       "grid_template_rows": null,
       "height": null,
       "justify_content": null,
       "justify_items": null,
       "left": null,
       "margin": null,
       "max_height": null,
       "max_width": null,
       "min_height": null,
       "min_width": null,
       "object_fit": null,
       "object_position": null,
       "order": null,
       "overflow": null,
       "overflow_x": null,
       "overflow_y": null,
       "padding": null,
       "right": null,
       "top": null,
       "visibility": null,
       "width": null
      }
     },
     "ee8063cd78724cc8bab78270188f2169": {
      "model_module": "@jupyter-widgets/base",
      "model_module_version": "1.2.0",
      "model_name": "LayoutModel",
      "state": {
       "_model_module": "@jupyter-widgets/base",
       "_model_module_version": "1.2.0",
       "_model_name": "LayoutModel",
       "_view_count": null,
       "_view_module": "@jupyter-widgets/base",
       "_view_module_version": "1.2.0",
       "_view_name": "LayoutView",
       "align_content": null,
       "align_items": null,
       "align_self": null,
       "border": null,
       "bottom": null,
       "display": null,
       "flex": null,
       "flex_flow": null,
       "grid_area": null,
       "grid_auto_columns": null,
       "grid_auto_flow": null,
       "grid_auto_rows": null,
       "grid_column": null,
       "grid_gap": null,
       "grid_row": null,
       "grid_template_areas": null,
       "grid_template_columns": null,
       "grid_template_rows": null,
       "height": null,
       "justify_content": null,
       "justify_items": null,
       "left": null,
       "margin": null,
       "max_height": null,
       "max_width": null,
       "min_height": null,
       "min_width": null,
       "object_fit": null,
       "object_position": null,
       "order": null,
       "overflow": null,
       "overflow_x": null,
       "overflow_y": null,
       "padding": null,
       "right": null,
       "top": null,
       "visibility": null,
       "width": null
      }
     },
     "f81ab2c795e345f48a4a8fd331016f1f": {
      "model_module": "@jupyter-widgets/base",
      "model_module_version": "1.2.0",
      "model_name": "LayoutModel",
      "state": {
       "_model_module": "@jupyter-widgets/base",
       "_model_module_version": "1.2.0",
       "_model_name": "LayoutModel",
       "_view_count": null,
       "_view_module": "@jupyter-widgets/base",
       "_view_module_version": "1.2.0",
       "_view_name": "LayoutView",
       "align_content": null,
       "align_items": null,
       "align_self": null,
       "border": null,
       "bottom": null,
       "display": null,
       "flex": null,
       "flex_flow": null,
       "grid_area": null,
       "grid_auto_columns": null,
       "grid_auto_flow": null,
       "grid_auto_rows": null,
       "grid_column": null,
       "grid_gap": null,
       "grid_row": null,
       "grid_template_areas": null,
       "grid_template_columns": null,
       "grid_template_rows": null,
       "height": null,
       "justify_content": null,
       "justify_items": null,
       "left": null,
       "margin": null,
       "max_height": null,
       "max_width": null,
       "min_height": null,
       "min_width": null,
       "object_fit": null,
       "object_position": null,
       "order": null,
       "overflow": null,
       "overflow_x": null,
       "overflow_y": null,
       "padding": null,
       "right": null,
       "top": null,
       "visibility": null,
       "width": null
      }
     }
    },
    "version_major": 2,
    "version_minor": 0
   }
  }
 },
 "nbformat": 4,
 "nbformat_minor": 5
}
